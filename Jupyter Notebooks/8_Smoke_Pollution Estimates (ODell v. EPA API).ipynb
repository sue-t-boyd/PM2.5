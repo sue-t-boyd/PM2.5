{
 "cells": [
  {
   "cell_type": "markdown",
   "id": "c9855e29",
   "metadata": {},
   "source": [
    "# Smoke_Pollution Estimates (ODell v. EPA_API)\n",
    "\n",
    "\n",
    "# License\n",
    "The code in this notebook was developed by Sue Boyd in support of the Course Project Assignment in DATA 512, a course in the UW MS Data Science degree program. The code in this notebook is provided under the MIT license located in the same repository as this notebook.\n",
    "\n",
    "# Chat GPT Attribution\n",
    "Selected functions or codeblocks in this Notebook were created with assistance from Chat GPT (https://chat.openai.com/). For any function or codeblock that was created with assistance from Chat GPT, the impacted code is isolated in a function or procedure and the use of Chat GPT is noted. Information on the prompts used to query Chat GPT isprovided at the end of the file. "
   ]
  },
  {
   "cell_type": "markdown",
   "id": "4c0b7ec4",
   "metadata": {},
   "source": [
    "# Step 0: Prepare Notebook "
   ]
  },
  {
   "cell_type": "code",
   "execution_count": 1,
   "id": "0816f4f8",
   "metadata": {},
   "outputs": [],
   "source": [
    "# import needed libraries \n",
    "\n",
    "import pandas as pd\n",
    "from scipy.io import netcdf\n",
    "import numpy as np\n",
    "import matplotlib\n",
    "import matplotlib.pyplot as plt\n",
    "import matplotlib.dates as mdates\n",
    "import seaborn as sns\n",
    "import scipy.stats as stats"
   ]
  },
  {
   "cell_type": "markdown",
   "id": "1c50cced",
   "metadata": {},
   "source": [
    "# Step 1: Load and Prep Data "
   ]
  },
  {
   "cell_type": "code",
   "execution_count": 2,
   "id": "d2ffe25a",
   "metadata": {},
   "outputs": [
    {
     "data": {
      "text/html": [
       "<div>\n",
       "<style scoped>\n",
       "    .dataframe tbody tr th:only-of-type {\n",
       "        vertical-align: middle;\n",
       "    }\n",
       "\n",
       "    .dataframe tbody tr th {\n",
       "        vertical-align: top;\n",
       "    }\n",
       "\n",
       "    .dataframe thead th {\n",
       "        text-align: right;\n",
       "    }\n",
       "</style>\n",
       "<table border=\"1\" class=\"dataframe\">\n",
       "  <thead>\n",
       "    <tr style=\"text-align: right;\">\n",
       "      <th></th>\n",
       "      <th>Year</th>\n",
       "      <th>Mean PM25 Smoke Days</th>\n",
       "      <th>Mean PM25 Non-Smoke Days</th>\n",
       "      <th>Diff in Mean PM25</th>\n",
       "      <th>Num Smoke Days</th>\n",
       "      <th>Avg. Annual Delta_PM25</th>\n",
       "      <th>Annual Mean Combined</th>\n",
       "    </tr>\n",
       "  </thead>\n",
       "  <tbody>\n",
       "    <tr>\n",
       "      <th>0</th>\n",
       "      <td>2006</td>\n",
       "      <td>9.962489</td>\n",
       "      <td>9.129669</td>\n",
       "      <td>0.832820</td>\n",
       "      <td>25.0</td>\n",
       "      <td>0.057042</td>\n",
       "      <td>9.186712</td>\n",
       "    </tr>\n",
       "    <tr>\n",
       "      <th>1</th>\n",
       "      <td>2007</td>\n",
       "      <td>11.532424</td>\n",
       "      <td>10.237317</td>\n",
       "      <td>1.295107</td>\n",
       "      <td>30.0</td>\n",
       "      <td>0.106447</td>\n",
       "      <td>10.343764</td>\n",
       "    </tr>\n",
       "    <tr>\n",
       "      <th>2</th>\n",
       "      <td>2008</td>\n",
       "      <td>13.020036</td>\n",
       "      <td>10.141664</td>\n",
       "      <td>2.878372</td>\n",
       "      <td>40.0</td>\n",
       "      <td>0.315438</td>\n",
       "      <td>10.456240</td>\n",
       "    </tr>\n",
       "    <tr>\n",
       "      <th>3</th>\n",
       "      <td>2009</td>\n",
       "      <td>8.738054</td>\n",
       "      <td>7.630536</td>\n",
       "      <td>1.107518</td>\n",
       "      <td>18.0</td>\n",
       "      <td>0.054617</td>\n",
       "      <td>7.685154</td>\n",
       "    </tr>\n",
       "    <tr>\n",
       "      <th>4</th>\n",
       "      <td>2010</td>\n",
       "      <td>6.578359</td>\n",
       "      <td>7.080457</td>\n",
       "      <td>-0.502098</td>\n",
       "      <td>17.0</td>\n",
       "      <td>-0.023385</td>\n",
       "      <td>7.057071</td>\n",
       "    </tr>\n",
       "  </tbody>\n",
       "</table>\n",
       "</div>"
      ],
      "text/plain": [
       "   Year  Mean PM25 Smoke Days  Mean PM25 Non-Smoke Days  Diff in Mean PM25  \\\n",
       "0  2006              9.962489                  9.129669           0.832820   \n",
       "1  2007             11.532424                 10.237317           1.295107   \n",
       "2  2008             13.020036                 10.141664           2.878372   \n",
       "3  2009              8.738054                  7.630536           1.107518   \n",
       "4  2010              6.578359                  7.080457          -0.502098   \n",
       "\n",
       "   Num Smoke Days  Avg. Annual Delta_PM25  Annual Mean Combined  \n",
       "0            25.0                0.057042              9.186712  \n",
       "1            30.0                0.106447             10.343764  \n",
       "2            40.0                0.315438             10.456240  \n",
       "3            18.0                0.054617              7.685154  \n",
       "4            17.0               -0.023385              7.057071  "
      ]
     },
     "execution_count": 2,
     "metadata": {},
     "output_type": "execute_result"
    }
   ],
   "source": [
    "#Load ODell Data \n",
    "\n",
    "fp = \"Data/Annual Summary PM25 Data ODell.csv\"\n",
    "pm25 = pd.read_csv(fp)\n",
    "pm25.head()"
   ]
  },
  {
   "cell_type": "code",
   "execution_count": 3,
   "id": "69f00b9b",
   "metadata": {},
   "outputs": [
    {
     "data": {
      "text/plain": [
       "[2006, 2007, 2008, 2009, 2010, 2011, 2012, 2013, 2014, 2015, 2016, 2017, 2018]"
      ]
     },
     "execution_count": 3,
     "metadata": {},
     "output_type": "execute_result"
    }
   ],
   "source": [
    "# define a constant we'll need later \n",
    "DATA_YEARS = pm25[\"Year\"].drop_duplicates().tolist()\n",
    "DATA_YEARS"
   ]
  },
  {
   "cell_type": "markdown",
   "id": "2f2fa40d",
   "metadata": {},
   "source": [
    "Load the EPA API data, drop unneeded columns, add indicator column"
   ]
  },
  {
   "cell_type": "code",
   "execution_count": 4,
   "id": "fe2a3e8d",
   "metadata": {},
   "outputs": [],
   "source": [
    "# load data from EPA, API  - not kriged\n",
    "f = \"Data/epa_api_pm25.csv\"\n",
    "pm25_api  = pd.read_csv(f)"
   ]
  },
  {
   "cell_type": "code",
   "execution_count": 5,
   "id": "3426856b",
   "metadata": {},
   "outputs": [
    {
     "data": {
      "text/html": [
       "<div>\n",
       "<style scoped>\n",
       "    .dataframe tbody tr th:only-of-type {\n",
       "        vertical-align: middle;\n",
       "    }\n",
       "\n",
       "    .dataframe tbody tr th {\n",
       "        vertical-align: top;\n",
       "    }\n",
       "\n",
       "    .dataframe thead th {\n",
       "        text-align: right;\n",
       "    }\n",
       "</style>\n",
       "<table border=\"1\" class=\"dataframe\">\n",
       "  <thead>\n",
       "    <tr style=\"text-align: right;\">\n",
       "      <th></th>\n",
       "      <th>Date</th>\n",
       "      <th>Parameter Name</th>\n",
       "      <th>Arithmetic Mean</th>\n",
       "      <th>AQI</th>\n",
       "      <th>Month</th>\n",
       "      <th>Month Number</th>\n",
       "      <th>Year</th>\n",
       "    </tr>\n",
       "  </thead>\n",
       "  <tbody>\n",
       "    <tr>\n",
       "      <th>0</th>\n",
       "      <td>1999-03-07</td>\n",
       "      <td>PM2.5 - Local Conditions</td>\n",
       "      <td>20.2</td>\n",
       "      <td>68.0</td>\n",
       "      <td>March</td>\n",
       "      <td>3</td>\n",
       "      <td>1999</td>\n",
       "    </tr>\n",
       "    <tr>\n",
       "      <th>1</th>\n",
       "      <td>1999-03-13</td>\n",
       "      <td>PM2.5 - Local Conditions</td>\n",
       "      <td>12.8</td>\n",
       "      <td>52.0</td>\n",
       "      <td>March</td>\n",
       "      <td>3</td>\n",
       "      <td>1999</td>\n",
       "    </tr>\n",
       "    <tr>\n",
       "      <th>2</th>\n",
       "      <td>1999-03-16</td>\n",
       "      <td>PM2.5 - Local Conditions</td>\n",
       "      <td>34.0</td>\n",
       "      <td>97.0</td>\n",
       "      <td>March</td>\n",
       "      <td>3</td>\n",
       "      <td>1999</td>\n",
       "    </tr>\n",
       "    <tr>\n",
       "      <th>3</th>\n",
       "      <td>1999-03-25</td>\n",
       "      <td>PM2.5 - Local Conditions</td>\n",
       "      <td>9.8</td>\n",
       "      <td>41.0</td>\n",
       "      <td>March</td>\n",
       "      <td>3</td>\n",
       "      <td>1999</td>\n",
       "    </tr>\n",
       "    <tr>\n",
       "      <th>4</th>\n",
       "      <td>1999-03-28</td>\n",
       "      <td>PM2.5 - Local Conditions</td>\n",
       "      <td>4.7</td>\n",
       "      <td>20.0</td>\n",
       "      <td>March</td>\n",
       "      <td>3</td>\n",
       "      <td>1999</td>\n",
       "    </tr>\n",
       "  </tbody>\n",
       "</table>\n",
       "</div>"
      ],
      "text/plain": [
       "         Date            Parameter Name  Arithmetic Mean   AQI  Month  \\\n",
       "0  1999-03-07  PM2.5 - Local Conditions             20.2  68.0  March   \n",
       "1  1999-03-13  PM2.5 - Local Conditions             12.8  52.0  March   \n",
       "2  1999-03-16  PM2.5 - Local Conditions             34.0  97.0  March   \n",
       "3  1999-03-25  PM2.5 - Local Conditions              9.8  41.0  March   \n",
       "4  1999-03-28  PM2.5 - Local Conditions              4.7  20.0  March   \n",
       "\n",
       "   Month Number  Year  \n",
       "0             3  1999  \n",
       "1             3  1999  \n",
       "2             3  1999  \n",
       "3             3  1999  \n",
       "4             3  1999  "
      ]
     },
     "execution_count": 5,
     "metadata": {},
     "output_type": "execute_result"
    }
   ],
   "source": [
    "# drop unneeded columns \n",
    "col_to_keep = pm25_api.columns.drop(['Local Site Name', 'Site Address', 'State',\n",
    "       'County', 'City', 'Units of Measure', 'Method',\n",
    "       'Sample Duration', 'Observation Count'])\n",
    "\n",
    "pm25_api = pm25_api[col_to_keep]\n",
    "pm25_api.head()"
   ]
  },
  {
   "cell_type": "code",
   "execution_count": 6,
   "id": "1148986d",
   "metadata": {},
   "outputs": [
    {
     "data": {
      "text/html": [
       "<div>\n",
       "<style scoped>\n",
       "    .dataframe tbody tr th:only-of-type {\n",
       "        vertical-align: middle;\n",
       "    }\n",
       "\n",
       "    .dataframe tbody tr th {\n",
       "        vertical-align: top;\n",
       "    }\n",
       "\n",
       "    .dataframe thead th {\n",
       "        text-align: right;\n",
       "    }\n",
       "</style>\n",
       "<table border=\"1\" class=\"dataframe\">\n",
       "  <thead>\n",
       "    <tr style=\"text-align: right;\">\n",
       "      <th></th>\n",
       "      <th>Date</th>\n",
       "      <th>Parameter Name</th>\n",
       "      <th>Arithmetic Mean</th>\n",
       "      <th>AQI</th>\n",
       "      <th>Month</th>\n",
       "      <th>Month Number</th>\n",
       "      <th>Year</th>\n",
       "      <th>Fire_Season</th>\n",
       "    </tr>\n",
       "  </thead>\n",
       "  <tbody>\n",
       "    <tr>\n",
       "      <th>0</th>\n",
       "      <td>1999-03-07</td>\n",
       "      <td>PM2.5 - Local Conditions</td>\n",
       "      <td>20.2</td>\n",
       "      <td>68.0</td>\n",
       "      <td>March</td>\n",
       "      <td>3</td>\n",
       "      <td>1999</td>\n",
       "      <td>False</td>\n",
       "    </tr>\n",
       "    <tr>\n",
       "      <th>1</th>\n",
       "      <td>1999-03-13</td>\n",
       "      <td>PM2.5 - Local Conditions</td>\n",
       "      <td>12.8</td>\n",
       "      <td>52.0</td>\n",
       "      <td>March</td>\n",
       "      <td>3</td>\n",
       "      <td>1999</td>\n",
       "      <td>False</td>\n",
       "    </tr>\n",
       "    <tr>\n",
       "      <th>2</th>\n",
       "      <td>1999-03-16</td>\n",
       "      <td>PM2.5 - Local Conditions</td>\n",
       "      <td>34.0</td>\n",
       "      <td>97.0</td>\n",
       "      <td>March</td>\n",
       "      <td>3</td>\n",
       "      <td>1999</td>\n",
       "      <td>False</td>\n",
       "    </tr>\n",
       "    <tr>\n",
       "      <th>3</th>\n",
       "      <td>1999-03-25</td>\n",
       "      <td>PM2.5 - Local Conditions</td>\n",
       "      <td>9.8</td>\n",
       "      <td>41.0</td>\n",
       "      <td>March</td>\n",
       "      <td>3</td>\n",
       "      <td>1999</td>\n",
       "      <td>False</td>\n",
       "    </tr>\n",
       "    <tr>\n",
       "      <th>4</th>\n",
       "      <td>1999-03-28</td>\n",
       "      <td>PM2.5 - Local Conditions</td>\n",
       "      <td>4.7</td>\n",
       "      <td>20.0</td>\n",
       "      <td>March</td>\n",
       "      <td>3</td>\n",
       "      <td>1999</td>\n",
       "      <td>False</td>\n",
       "    </tr>\n",
       "  </tbody>\n",
       "</table>\n",
       "</div>"
      ],
      "text/plain": [
       "         Date            Parameter Name  Arithmetic Mean   AQI  Month  \\\n",
       "0  1999-03-07  PM2.5 - Local Conditions             20.2  68.0  March   \n",
       "1  1999-03-13  PM2.5 - Local Conditions             12.8  52.0  March   \n",
       "2  1999-03-16  PM2.5 - Local Conditions             34.0  97.0  March   \n",
       "3  1999-03-25  PM2.5 - Local Conditions              9.8  41.0  March   \n",
       "4  1999-03-28  PM2.5 - Local Conditions              4.7  20.0  March   \n",
       "\n",
       "   Month Number  Year  Fire_Season  \n",
       "0             3  1999        False  \n",
       "1             3  1999        False  \n",
       "2             3  1999        False  \n",
       "3             3  1999        False  \n",
       "4             3  1999        False  "
      ]
     },
     "execution_count": 6,
     "metadata": {},
     "output_type": "execute_result"
    }
   ],
   "source": [
    "# Add an indicator for fire season to pm25_api\n",
    "all_months = pm25_api[\"Month\"].drop_duplicates().to_list()\n",
    "fire_season_months = all_months[4:10]\n",
    "pm25_api[\"Fire_Season\"] = pm25_api[\"Month\"].isin(fire_season_months)\n",
    "pm25_api.head()"
   ]
  },
  {
   "cell_type": "markdown",
   "id": "3d667c3e",
   "metadata": {},
   "source": [
    "# Step 2: Compare ODell PM Estimates and EPA API Data Estimates "
   ]
  },
  {
   "cell_type": "code",
   "execution_count": 17,
   "id": "aaec2cd1",
   "metadata": {},
   "outputs": [
    {
     "data": {
      "image/png": "[encoded data removed]",
      "text/plain": [
       "<Figure size 720x288 with 1 Axes>"
      ]
     },
     "metadata": {
      "needs_background": "light"
     },
     "output_type": "display_data"
    }
   ],
   "source": [
    "# Let's compare Annual Mean PM2.5 Near Kearney O'Dell Data vs. EPA API Data \n",
    "grouped_pm25_api = pm25_api.groupby(['Year'])[\"Arithmetic Mean\"].mean().reset_index()\n",
    "\n",
    "x_api = grouped_pm25_api[\"Year\"]\n",
    "y0_api = grouped_pm25_api[\"Arithmetic Mean\"]\n",
    "x = pm25[\"Year\"]\n",
    "y0 = pm25[\"Annual Mean Combined\"]\n",
    "\n",
    "# Create plot \n",
    "fig, ax = plt.subplots(figsize=(10, 4))\n",
    "ax.plot(x_api, y0_api, label = \"EPA API Data\", linewidth= 3)\n",
    "ax.plot(x, y0, label = \"ODell Krieged Data\", linewidth = 3)\n",
    "#plt.xlabel(\"Year\")\n",
    "plt.ylabel(\"ug/m-3\", fontsize = 18)\n",
    "plt.title(\"Annual Mean PM2.5 Near Kearney, Nebraska\", fontsize=20)\n",
    "plt.legend();\n",
    "#max_y_value = max(y0)*1.2\n",
    "#ax.set_ylim(0, max_y_value)\n",
    "plt.xticks(fontsize = 16)  # Rotate the tick labels for better visibility\n",
    "plt.yticks(fontsize = 16)\n",
    "\n",
    "plt.show();\n"
   ]
  },
  {
   "cell_type": "markdown",
   "id": "0948db79",
   "metadata": {},
   "source": [
    "Krieged Data a good match to the EPA API Data, although some differences in early years 2005-2008"
   ]
  },
  {
   "cell_type": "code",
   "execution_count": 25,
   "id": "d3e99518",
   "metadata": {},
   "outputs": [
    {
     "data": {
      "text/plain": [
       "0.8368921043095753"
      ]
     },
     "execution_count": 25,
     "metadata": {},
     "output_type": "execute_result"
    }
   ],
   "source": [
    "# calculate correlation coefficient between EPA and O'Dell Estimates \n",
    "\n",
    "df = grouped_pm25_api.iloc[7:20]\n",
    "y0_api_slim = df[\"Arithmetic Mean\"]\n",
    "np.corrcoef(y0_api_slim, y0)[0, 1]\n",
    "\n",
    "\n",
    "\n"
   ]
  },
  {
   "cell_type": "code",
   "execution_count": 8,
   "id": "8c580301",
   "metadata": {},
   "outputs": [
    {
     "data": {
      "text/html": [
       "<div>\n",
       "<style scoped>\n",
       "    .dataframe tbody tr th:only-of-type {\n",
       "        vertical-align: middle;\n",
       "    }\n",
       "\n",
       "    .dataframe tbody tr th {\n",
       "        vertical-align: top;\n",
       "    }\n",
       "\n",
       "    .dataframe thead th {\n",
       "        text-align: right;\n",
       "    }\n",
       "</style>\n",
       "<table border=\"1\" class=\"dataframe\">\n",
       "  <thead>\n",
       "    <tr style=\"text-align: right;\">\n",
       "      <th></th>\n",
       "      <th>Year</th>\n",
       "      <th>Arithmetic Mean</th>\n",
       "    </tr>\n",
       "  </thead>\n",
       "  <tbody>\n",
       "    <tr>\n",
       "      <th>0</th>\n",
       "      <td>1999</td>\n",
       "      <td>34.0</td>\n",
       "    </tr>\n",
       "    <tr>\n",
       "      <th>1</th>\n",
       "      <td>2000</td>\n",
       "      <td>39.9</td>\n",
       "    </tr>\n",
       "    <tr>\n",
       "      <th>2</th>\n",
       "      <td>2001</td>\n",
       "      <td>35.8</td>\n",
       "    </tr>\n",
       "    <tr>\n",
       "      <th>3</th>\n",
       "      <td>2002</td>\n",
       "      <td>27.6</td>\n",
       "    </tr>\n",
       "    <tr>\n",
       "      <th>4</th>\n",
       "      <td>2003</td>\n",
       "      <td>31.0</td>\n",
       "    </tr>\n",
       "  </tbody>\n",
       "</table>\n",
       "</div>"
      ],
      "text/plain": [
       "   Year  Arithmetic Mean\n",
       "0  1999             34.0\n",
       "1  2000             39.9\n",
       "2  2001             35.8\n",
       "3  2002             27.6\n",
       "4  2003             31.0"
      ]
     },
     "execution_count": 8,
     "metadata": {},
     "output_type": "execute_result"
    }
   ],
   "source": [
    "# also inspect max pm25 by year \n",
    "max = pm25_api.groupby(['Year'])[\"Arithmetic Mean\"].max().reset_index()\n",
    "max.head()"
   ]
  },
  {
   "cell_type": "markdown",
   "id": "79fcfa10",
   "metadata": {},
   "source": [
    "Now let's inspect if there is a way to estimate fire related impacts using EPA api data in years when O'Dell Data is not available"
   ]
  },
  {
   "cell_type": "code",
   "execution_count": 9,
   "id": "430396e9",
   "metadata": {},
   "outputs": [
    {
     "data": {
      "text/plain": [
       "<matplotlib.legend.Legend at 0x26a866b7610>"
      ]
     },
     "execution_count": 9,
     "metadata": {},
     "output_type": "execute_result"
    },
    {
     "data": {
      "image/png": "[encoded data removed]",
      "text/plain": [
       "<Figure size 720x288 with 1 Axes>"
      ]
     },
     "metadata": {
      "needs_background": "light"
     },
     "output_type": "display_data"
    }
   ],
   "source": [
    "# Replace O'Dell overall mean with smoke and non-smoke mean in above graph\n",
    "\n",
    "# EPA api data \n",
    "x_api = grouped_pm25_api[\"Year\"]\n",
    "y0_api = grouped_pm25_api[\"Arithmetic Mean\"]\n",
    "\n",
    "\n",
    "#O'Dell data \n",
    "x = pm25[\"Year\"]\n",
    "y1 = pm25[\"Mean PM25 Smoke Days\"]\n",
    "y2 = pm25[\"Mean PM25 Non-Smoke Days\"]\n",
    "\n",
    "# Create plot \n",
    "fig, ax = plt.subplots(figsize=(10, 4))\n",
    "ax.plot(x_api, y0_api, label = \"EPA API Data\")\n",
    "ax.plot(x, y1, label = \"Mean PM25 Smoke Days\")\n",
    "ax.plot(x, y2, label = \"Mean PM25 Non-Smoke Days\")\n",
    "#plt.xlabel(\"Year\")\n",
    "plt.ylabel(\"ug/m-3\")\n",
    "plt.title(\"Annual Mean PM2.5 Near Kearney, Nebraska\", fontsize=20)\n",
    "plt.legend()\n",
    "#max_y_value = max(y0)*1.2\n",
    "#ax.set_ylim(0, max_y_value)"
   ]
  },
  {
   "cell_type": "code",
   "execution_count": 10,
   "id": "cc87cc24",
   "metadata": {},
   "outputs": [],
   "source": [
    "# What if we take the max API reading for each month in fire season, minus the annual average\n",
    "# as a rough look at how \"bad\" the bad days are \n",
    "\n",
    "\n",
    "\n",
    "\n",
    "\n",
    "\n"
   ]
  }
 ],
 "metadata": {
  "kernelspec": {
   "display_name": "Python 3 (ipykernel)",
   "language": "python",
   "name": "python3"
  },
  "language_info": {
   "codemirror_mode": {
    "name": "ipython",
    "version": 3
   },
   "file_extension": ".py",
   "mimetype": "text/x-python",
   "name": "python",
   "nbconvert_exporter": "python",
   "pygments_lexer": "ipython3",
   "version": "3.8.16"
  }
 },
 "nbformat": 4,
 "nbformat_minor": 5
}
