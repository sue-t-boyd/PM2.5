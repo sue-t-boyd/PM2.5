{
 "cells": [
  {
   "cell_type": "markdown",
   "id": "9a1655e5",
   "metadata": {},
   "source": [
    "# Gather_Population_And_Other_Mortality_Cause_Data \n",
    "\n",
    "This notebook loads and cleans data related to population statistics for Kearney, the state of Nebraska, and the US for the years 2006-2018.  It also loads data related to causes of death in Nebraska for the years 2006-2018, and calculates estiamted statistics for Kearney based on a Kearney-to-Nebraska population ratio.  Results are saved to CSV files.  \n",
    "\n",
    "\n",
    "# License\n",
    "This code was developed by Susan Boyd for use in HW1 assigned in DATA 512, a course in the UW MS Data Science degree program. This code is provided under an MIT license\n",
    "\n",
    "\n",
    "# Chat GPT Attribution\n",
    "Some functions or code blocks in this Notebook were created with assistance from Chat GPT (https://chat.openai.com/). The impacted code is isolated in a function and the use of Chat GPT is noted, along with information on the prompts used to query Chat GPT provided at the end of the noteboo\n",
    "\n",
    "\n"
   ]
  },
  {
   "cell_type": "markdown",
   "id": "da3b10bb",
   "metadata": {},
   "source": [
    "# Step 0 Prepare Notebook"
   ]
  },
  {
   "cell_type": "code",
   "execution_count": 1,
   "id": "604fe84e",
   "metadata": {},
   "outputs": [],
   "source": [
    "# import needed libraries \n",
    "import numpy as np\n",
    "import pandas as pd"
   ]
  },
  {
   "cell_type": "markdown",
   "id": "f2c0d2a9",
   "metadata": {},
   "source": [
    "# Step 1 Load US Population Data "
   ]
  },
  {
   "cell_type": "code",
   "execution_count": 2,
   "id": "7ced603f",
   "metadata": {},
   "outputs": [],
   "source": [
    "#2000-2010\n",
    "# Source: \"Annual Estimates of the Resident Population for the United States, Regions, States, \n",
    "# the District of Columbia, and Puerto Rico: April 1, 2010 to July 1, 2019; April 1, 2020; and July 1, 2020 (NST-EST2020)\"\"\n",
    "# US Census website: https://www.census.gov/data/tables/time-series/demo/popest/intercensal-2000-2010-national.html\n",
    "\n",
    "f = \"Data/Pop_Raw/us_pop_2000_2010.xls\"\n",
    "US_pop2000_2010 = pd.read_excel(f)\n",
    "US_pop2000_2009 = US_pop2000_2010.iloc[0:10]\n",
    "#US_pop2000_2009\n",
    "\n"
   ]
  },
  {
   "cell_type": "code",
   "execution_count": 3,
   "id": "c96dd973",
   "metadata": {},
   "outputs": [],
   "source": [
    "#2010-2020\n",
    "# Source: \"Annual Estimates of the Resident Population for the United States, Regions, States, the District of Columbia, \n",
    "# and Puerto Rico: April 1, 2010 to July 1, 2019; April 1, 2020; and July 1, 2020 (NST-EST2020)\"\n",
    "# Website: https://www.census.gov/programs-surveys/popest/technical-documentation/research/evaluation-estimates . . .\n",
    "# /2020-evaluation-estimates/2010s-totals-national.html\n",
    "\n",
    "f= \"Data/Pop_Raw/us_pop_2010_2020.xlsx\"\n",
    "US_pop2010_2020 = pd.read_excel(f)\n",
    "#US_pop2010_2020\n"
   ]
  },
  {
   "cell_type": "code",
   "execution_count": 4,
   "id": "0c31106f",
   "metadata": {},
   "outputs": [
    {
     "data": {
      "text/html": [
       "<div>\n",
       "<style scoped>\n",
       "    .dataframe tbody tr th:only-of-type {\n",
       "        vertical-align: middle;\n",
       "    }\n",
       "\n",
       "    .dataframe tbody tr th {\n",
       "        vertical-align: top;\n",
       "    }\n",
       "\n",
       "    .dataframe thead th {\n",
       "        text-align: right;\n",
       "    }\n",
       "</style>\n",
       "<table border=\"1\" class=\"dataframe\">\n",
       "  <thead>\n",
       "    <tr style=\"text-align: right;\">\n",
       "      <th></th>\n",
       "      <th>Year</th>\n",
       "      <th>US POP</th>\n",
       "    </tr>\n",
       "  </thead>\n",
       "  <tbody>\n",
       "    <tr>\n",
       "      <th>0</th>\n",
       "      <td>2000</td>\n",
       "      <td>282162411</td>\n",
       "    </tr>\n",
       "    <tr>\n",
       "      <th>1</th>\n",
       "      <td>2001</td>\n",
       "      <td>284968955</td>\n",
       "    </tr>\n",
       "    <tr>\n",
       "      <th>2</th>\n",
       "      <td>2002</td>\n",
       "      <td>287625193</td>\n",
       "    </tr>\n",
       "    <tr>\n",
       "      <th>3</th>\n",
       "      <td>2003</td>\n",
       "      <td>290107933</td>\n",
       "    </tr>\n",
       "    <tr>\n",
       "      <th>4</th>\n",
       "      <td>2004</td>\n",
       "      <td>292805298</td>\n",
       "    </tr>\n",
       "  </tbody>\n",
       "</table>\n",
       "</div>"
      ],
      "text/plain": [
       "   Year     US POP\n",
       "0  2000  282162411\n",
       "1  2001  284968955\n",
       "2  2002  287625193\n",
       "3  2003  290107933\n",
       "4  2004  292805298"
      ]
     },
     "execution_count": 4,
     "metadata": {},
     "output_type": "execute_result"
    }
   ],
   "source": [
    "# Combine Years \n",
    "US_pop = pd.concat([US_pop2000_2009, US_pop2010_2020], axis = 0, ignore_index=True)\n",
    "US_pop.head()"
   ]
  },
  {
   "cell_type": "code",
   "execution_count": 5,
   "id": "02c0507f",
   "metadata": {},
   "outputs": [],
   "source": [
    "# Save to CSV file \n",
    "f_out =  \"Data/us_pop_2000_2020.csv\"\n",
    "US_pop.to_csv(f_out, index = False)"
   ]
  },
  {
   "cell_type": "markdown",
   "id": "f1c56b22",
   "metadata": {},
   "source": [
    "# Step 2 Load  And Calculate Data for Kearney "
   ]
  },
  {
   "cell_type": "markdown",
   "id": "06c09816",
   "metadata": {},
   "source": [
    "For Kearney, US Census provides census counts (2000, 2010, 2020) but not intercensus estimates.  I'll estimate annaul based on smooth growth rates between census. "
   ]
  },
  {
   "cell_type": "code",
   "execution_count": 6,
   "id": "b3385297",
   "metadata": {},
   "outputs": [],
   "source": [
    "# For Kearney, US Census \n",
    "# Source: https://www.census.gov/quickfacts/fact/table/kearneycitynebraska/PST045222\n",
    "# and https://en.wikipedia.org/wiki/Kearney,_Nebraska\n",
    "KEARNEY_POP_2020 = 33790\n",
    "KEARNEY_POP_2010 = 30787\n",
    "KEARNEY_POP_2000 = 27431"
   ]
  },
  {
   "cell_type": "code",
   "execution_count": 7,
   "id": "825c2be9",
   "metadata": {},
   "outputs": [],
   "source": [
    "# function to calculate CAGRS\n",
    "# See Chat GPT attribution at end of notebook \n",
    "\n",
    "def calculate_cagr(beginning_value, ending_value, number_of_years):\n",
    "    cagr = ((ending_value / beginning_value) ** (1 / number_of_years)) - 1\n",
    "    return cagr\n"
   ]
  },
  {
   "cell_type": "code",
   "execution_count": 8,
   "id": "45437f7e",
   "metadata": {},
   "outputs": [
    {
     "name": "stdout",
     "output_type": "stream",
     "text": [
      "Growth Rate 2000-2010 is_0.011608740676639862; Growth Rate 2010_2020 is_0.009350684800372155\n"
     ]
    }
   ],
   "source": [
    "# calculate CAGRs\n",
    "CAGR_2000_2010 = calculate_cagr(KEARNEY_POP_2000, KEARNEY_POP_2010, 10)\n",
    "CAGR_2010_2020 = calculate_cagr(KEARNEY_POP_2010, KEARNEY_POP_2020, 10)\n",
    "print(f\"Growth Rate 2000-2010 is_{CAGR_2000_2010}; Growth Rate 2010_2020 is_{CAGR_2010_2020}\")"
   ]
  },
  {
   "cell_type": "code",
   "execution_count": 9,
   "id": "aed31259",
   "metadata": {},
   "outputs": [
    {
     "name": "stdout",
     "output_type": "stream",
     "text": [
      "   Year    Pop\n",
      "0  2000  27431\n",
      "1  2001  27749\n",
      "2  2002  28072\n",
      "3  2003  28397\n",
      "4  2004  28727\n",
      "    Year    Pop\n",
      "41  2041  41084\n",
      "42  2042  41468\n",
      "43  2043  41856\n",
      "44  2044  42247\n",
      "45  2045  42642\n"
     ]
    }
   ],
   "source": [
    "# Create Estimates \n",
    "\n",
    "## 00 to 10\n",
    "Years_00 = [2000]\n",
    "Pop_00 = [KEARNEY_POP_2000]\n",
    "Years_to_Calc = [2001, 2002, 2003, 2004, 2005, 2006, 2007, 2008, 2009]\n",
    "prior_yr = KEARNEY_POP_2000\n",
    "for yr in Years_to_Calc: \n",
    "    Years_00.append(yr)\n",
    "    new = prior_yr*(1+CAGR_2000_2010)\n",
    "    Pop_00.append(round(new))\n",
    "    prior_yr = new\n",
    "\n",
    "## 10_to 20 \n",
    "Years_10 = [2010]\n",
    "Pop_10 = [KEARNEY_POP_2010]\n",
    "Years_to_Calc = [2011, 2012, 2013, 2014, 2015, 2016, 2017, 2018, 2019]\n",
    "prior_yr = KEARNEY_POP_2010\n",
    "for yr in Years_to_Calc: \n",
    "    Years_10.append(yr)\n",
    "    new = prior_yr*(1+CAGR_2010_2020)\n",
    "    Pop_10.append(round(new))\n",
    "    prior_yr = new\n",
    "\n",
    "## 21_and_after\n",
    "## Assume same CAGR as 2010 to 2020 \n",
    "Years_20 = [2020]\n",
    "Pop_20 = [KEARNEY_POP_2020]\n",
    "Years_to_Calc = list(range(2021, 2046))\n",
    "prior_yr = KEARNEY_POP_2020\n",
    "for yr in Years_to_Calc: \n",
    "    Years_20.append(yr)\n",
    "    new = prior_yr*(1+CAGR_2010_2020)\n",
    "    Pop_20.append(round(new))\n",
    "    prior_yr = new\n",
    "\n",
    "all_yrs = Years_00 + Years_10 + Years_20\n",
    "all_pop = Pop_00 + Pop_10 + Pop_20\n",
    "\n",
    "Kearney_pop = pd.DataFrame({\n",
    "    \"Year\": all_yrs,\n",
    "    \"Pop\": all_pop\n",
    "})\n",
    "\n",
    "print(Kearney_pop.head())\n",
    "print(Kearney_pop.tail())\n"
   ]
  },
  {
   "cell_type": "code",
   "execution_count": 10,
   "id": "6df3edb0",
   "metadata": {},
   "outputs": [],
   "source": [
    "# save to file \n",
    "f_out = \"Data/Kearney_Pop.csv\"\n",
    "Kearney_pop.to_csv(f_out, index = False)"
   ]
  },
  {
   "cell_type": "markdown",
   "id": "a88e95a2",
   "metadata": {},
   "source": [
    "# Step 3 - Calculate Kearney_To_Neb Pop Ratio "
   ]
  },
  {
   "cell_type": "markdown",
   "id": "7b89e1c2",
   "metadata": {},
   "source": [
    "To translate mortality estimates reported for the state of Nebraska to be specific to Kearney, we'll scale the all-Nebraska stats by the population ratio between Kearney and Nebraska.  For this purpose, we'll use 2020 population for both Kearney and Nebraska.  "
   ]
  },
  {
   "cell_type": "code",
   "execution_count": 11,
   "id": "daf99514",
   "metadata": {},
   "outputs": [],
   "source": [
    "# Nebraska Pop 2020\n",
    "# Source: https://www.census.gov/quickfacts/fact/table/NE,US/PST045222\n",
    "NEBRASKA_POP_2020 =  1961504"
   ]
  },
  {
   "cell_type": "code",
   "execution_count": 12,
   "id": "059c4145",
   "metadata": {},
   "outputs": [
    {
     "name": "stdout",
     "output_type": "stream",
     "text": [
      "Kearney to NE pop ratio is: 0.017\n"
     ]
    }
   ],
   "source": [
    "# Kearney to Nebrasca Pop Ratio\n",
    "kearney_to_neb_ratio = KEARNEY_POP_2020/NEBRASKA_POP_2020\n",
    "print(\"Kearney to NE pop ratio is:\", round(kearney_to_neb_ratio, 3))"
   ]
  },
  {
   "cell_type": "markdown",
   "id": "18c89535",
   "metadata": {},
   "source": [
    "# Step 4  - Other Causes Premature Death"
   ]
  },
  {
   "cell_type": "code",
   "execution_count": 13,
   "id": "ffa109c1",
   "metadata": {},
   "outputs": [
    {
     "name": "stdout",
     "output_type": "stream",
     "text": [
      "For 2006-2018, Estimated Traffic Fatalites in Kearney is _49.9\n"
     ]
    }
   ],
   "source": [
    "# Traffic fatalities all of Nebraska \n",
    "#https://www-fars.nhtsa.dot.gov/States/StatesFatalitiesFatalityRates.aspx\n",
    "\n",
    "tf_2006 = 269\n",
    "tf_2007 = 256\n",
    "tf_2008 = 208\n",
    "tf_2009 = 223\n",
    "tf_2010 = 190\n",
    "tf_2011 = 181\n",
    "tf_2012 = 212\n",
    "tf_2013 = 211\n",
    "tf_2014 = 225\n",
    "tf_2015 = 246\n",
    "tf_2016 = 218\n",
    "tf_2017 = 228\n",
    "tf_2018 = 230\n",
    "\n",
    "traffic_fatality_NE_per_year = [tf_2006,tf_2007, tf_2008, tf_2009, tf_2010, tf_2011, tf_2012, tf_2013, \\\n",
    "                   tf_2014, tf_2015, tf_2016, tf_2017, tf_2018]\n",
    "\n",
    "traffic_fatality_KE_per_year =[x * kearney_to_neb_ratio for x in traffic_fatality_NE_per_year]\n",
    "traffic_fatality_KE_cum = sum(traffic_fatality_KE_per_year)\n",
    "\n",
    "print(f\"For 2006-2018, Estimated Traffic Fatalites in Kearney is _{round(traffic_fatality_KE_cum, 1)}\")"
   ]
  },
  {
   "cell_type": "code",
   "execution_count": 14,
   "id": "21f17e73",
   "metadata": {},
   "outputs": [
    {
     "name": "stdout",
     "output_type": "stream",
     "text": [
      "For 2006-2018, estimated fire arms deaths in Kearney is_ 35.7\n"
     ]
    }
   ],
   "source": [
    "#  Firearm Deaths in Nebraska\n",
    "# From https://usafacts.org/data/topics/security-safety/crime-and-justice/firearms/firearm-deaths/\n",
    "\n",
    "fd_2006 = 141\n",
    "fd_2007 = 142\n",
    "fd_2008 = 150\n",
    "fd_2009 = 132\n",
    "fd_2010 = 152\n",
    "fd_2011 = 161\n",
    "fd_2012 = 167\n",
    "fd_2013 = 168\n",
    "fd_2014 = 179\n",
    "fd_2015 = 168\n",
    "fd_2016 = 171\n",
    "fd_2017 = 160\n",
    "fd_2018 = 183\n",
    "\n",
    "fire_arm_deaths_NE_per_year = [fd_2006,fd_2007, fd_2008, fd_2009, fd_2010, fd_2011, fd_2012, fd_2013, \\\n",
    "                   fd_2014, fd_2015, fd_2016, fd_2017, fd_2018]\n",
    "\n",
    "fire_arm_deaths_KE_per_yr =  [x * kearney_to_neb_ratio for x in fire_arm_deaths_NE_per_year]\n",
    "\n",
    "fire_arm_deaths_KE_cum = sum(fire_arm_deaths_KE_per_yr)\n",
    "\n",
    "print(f\"For 2006-2018, estimated fire arms deaths in Kearney is_ {round(fire_arm_deaths_KE_cum,1)}\")"
   ]
  },
  {
   "cell_type": "code",
   "execution_count": 15,
   "id": "382162c3",
   "metadata": {},
   "outputs": [
    {
     "data": {
      "text/plain": [
       "12.675315472209082"
      ]
     },
     "execution_count": 15,
     "metadata": {},
     "output_type": "execute_result"
    }
   ],
   "source": [
    "# homocide rates (only available for 2014-2018, take average)\n",
    "# https://www.cdc.gov/nchs/pressroom/sosmap/homicide_mortality/homicide.htm\n",
    "\n",
    "\n",
    "ho_NE_2014 = 63\n",
    "ho_NE_2015 = 75\n",
    "ho_NE_2016 = 60\n",
    "ho_NE_2017 = 50\n",
    "ho_NE_2018 = 35\n",
    "ave_ho_NE_per_yr = np.mean([ho_NE_2014, ho_NE_2015, ho_NE_2016, ho_NE_2017, ho_NE_2018])\n",
    "cum_NE = ave_ho_NE_per_yr*13\n",
    "cum_NE\n",
    "cum_homicide_KE = cum_NE*kearney_to_neb_ratio\n",
    "cum_homicide_KE \n"
   ]
  },
  {
   "cell_type": "code",
   "execution_count": 16,
   "id": "9fa6186e",
   "metadata": {},
   "outputs": [
    {
     "data": {
      "text/html": [
       "<div>\n",
       "<style scoped>\n",
       "    .dataframe tbody tr th:only-of-type {\n",
       "        vertical-align: middle;\n",
       "    }\n",
       "\n",
       "    .dataframe tbody tr th {\n",
       "        vertical-align: top;\n",
       "    }\n",
       "\n",
       "    .dataframe thead th {\n",
       "        text-align: right;\n",
       "    }\n",
       "</style>\n",
       "<table border=\"1\" class=\"dataframe\">\n",
       "  <thead>\n",
       "    <tr style=\"text-align: right;\">\n",
       "      <th></th>\n",
       "      <th>Year</th>\n",
       "      <th>Cause Name</th>\n",
       "      <th>Deaths</th>\n",
       "    </tr>\n",
       "  </thead>\n",
       "  <tbody>\n",
       "    <tr>\n",
       "      <th>28</th>\n",
       "      <td>2017</td>\n",
       "      <td>Unintentional injuries</td>\n",
       "      <td>811</td>\n",
       "    </tr>\n",
       "    <tr>\n",
       "      <th>80</th>\n",
       "      <td>2017</td>\n",
       "      <td>All causes</td>\n",
       "      <td>16878</td>\n",
       "    </tr>\n",
       "    <tr>\n",
       "      <th>132</th>\n",
       "      <td>2017</td>\n",
       "      <td>Alzheimer's disease</td>\n",
       "      <td>698</td>\n",
       "    </tr>\n",
       "    <tr>\n",
       "      <th>184</th>\n",
       "      <td>2017</td>\n",
       "      <td>Stroke</td>\n",
       "      <td>760</td>\n",
       "    </tr>\n",
       "    <tr>\n",
       "      <th>236</th>\n",
       "      <td>2017</td>\n",
       "      <td>CLRD</td>\n",
       "      <td>1224</td>\n",
       "    </tr>\n",
       "  </tbody>\n",
       "</table>\n",
       "</div>"
      ],
      "text/plain": [
       "     Year              Cause Name  Deaths\n",
       "28   2017  Unintentional injuries     811\n",
       "80   2017              All causes   16878\n",
       "132  2017     Alzheimer's disease     698\n",
       "184  2017                  Stroke     760\n",
       "236  2017                    CLRD    1224"
      ]
     },
     "execution_count": 16,
     "metadata": {},
     "output_type": "execute_result"
    }
   ],
   "source": [
    "# Other causes of death \n",
    "#https://www.cdc.gov/nchs/data-visualization/mortality-leading-causes/index.htm\n",
    "\n",
    "# load death per Year  # Note that this is only through 2017! \n",
    "f = \"Data/Other_Mortality_Raw/NCHS_-_Leading_Causes_of_Death__United_States (1).csv\"\n",
    "death_US_per_year = pd.read_csv(f)\n",
    "\n",
    "# filter to only NE\n",
    "death_NE_per_year = death_US_per_year[death_US_per_year[\"State\"]==\"Nebraska\"]\n",
    "death_NE_per_year\n",
    "\n",
    "# Filter years \n",
    "YEARS = [2006, 2007, 2008, 2009, 2010, 2011, 2012, 2013, 2014, 2015, 2016, 2017, 2018]\n",
    "death_NE_per_year = death_NE_per_year[death_NE_per_year[\"Year\"].isin(YEARS)]\n",
    "\n",
    "# Drop unneeded columns \n",
    "death_NE_per_year = death_NE_per_year[death_NE_per_year.columns.drop([\"113 Cause Name\", \"State\", \"Age-adjusted Death Rate\"])]\n",
    "\n",
    "# Coerce the \"Deaths\" colums to numbers\n",
    "death_NE_per_year['Deaths'] = death_NE_per_year['Deaths'].str.replace(',', '').astype(int)\n",
    "\n",
    "\n",
    "death_NE_per_year.head()"
   ]
  },
  {
   "cell_type": "code",
   "execution_count": 17,
   "id": "778d6aa5",
   "metadata": {},
   "outputs": [
    {
     "data": {
      "text/html": [
       "<div>\n",
       "<style scoped>\n",
       "    .dataframe tbody tr th:only-of-type {\n",
       "        vertical-align: middle;\n",
       "    }\n",
       "\n",
       "    .dataframe tbody tr th {\n",
       "        vertical-align: top;\n",
       "    }\n",
       "\n",
       "    .dataframe thead th {\n",
       "        text-align: right;\n",
       "    }\n",
       "</style>\n",
       "<table border=\"1\" class=\"dataframe\">\n",
       "  <thead>\n",
       "    <tr style=\"text-align: right;\">\n",
       "      <th></th>\n",
       "      <th>Cause Name</th>\n",
       "      <th>Deaths</th>\n",
       "    </tr>\n",
       "  </thead>\n",
       "  <tbody>\n",
       "    <tr>\n",
       "      <th>0</th>\n",
       "      <td>All causes</td>\n",
       "      <td>188306</td>\n",
       "    </tr>\n",
       "    <tr>\n",
       "      <th>1</th>\n",
       "      <td>Alzheimer's disease</td>\n",
       "      <td>6929</td>\n",
       "    </tr>\n",
       "    <tr>\n",
       "      <th>2</th>\n",
       "      <td>CLRD</td>\n",
       "      <td>12629</td>\n",
       "    </tr>\n",
       "    <tr>\n",
       "      <th>3</th>\n",
       "      <td>Cancer</td>\n",
       "      <td>41359</td>\n",
       "    </tr>\n",
       "    <tr>\n",
       "      <th>4</th>\n",
       "      <td>Diabetes</td>\n",
       "      <td>5751</td>\n",
       "    </tr>\n",
       "    <tr>\n",
       "      <th>5</th>\n",
       "      <td>Heart disease</td>\n",
       "      <td>40799</td>\n",
       "    </tr>\n",
       "    <tr>\n",
       "      <th>6</th>\n",
       "      <td>Influenza and pneumonia</td>\n",
       "      <td>4016</td>\n",
       "    </tr>\n",
       "    <tr>\n",
       "      <th>7</th>\n",
       "      <td>Kidney disease</td>\n",
       "      <td>2964</td>\n",
       "    </tr>\n",
       "    <tr>\n",
       "      <th>8</th>\n",
       "      <td>Stroke</td>\n",
       "      <td>9966</td>\n",
       "    </tr>\n",
       "    <tr>\n",
       "      <th>9</th>\n",
       "      <td>Suicide</td>\n",
       "      <td>2577</td>\n",
       "    </tr>\n",
       "    <tr>\n",
       "      <th>10</th>\n",
       "      <td>Unintentional injuries</td>\n",
       "      <td>8790</td>\n",
       "    </tr>\n",
       "  </tbody>\n",
       "</table>\n",
       "</div>"
      ],
      "text/plain": [
       "                 Cause Name  Deaths\n",
       "0                All causes  188306\n",
       "1       Alzheimer's disease    6929\n",
       "2                      CLRD   12629\n",
       "3                    Cancer   41359\n",
       "4                  Diabetes    5751\n",
       "5             Heart disease   40799\n",
       "6   Influenza and pneumonia    4016\n",
       "7            Kidney disease    2964\n",
       "8                    Stroke    9966\n",
       "9                   Suicide    2577\n",
       "10   Unintentional injuries    8790"
      ]
     },
     "execution_count": 17,
     "metadata": {},
     "output_type": "execute_result"
    }
   ],
   "source": [
    "# Totals 2006-2017\n",
    "cum_NE_2006_2017 = death_NE_per_year.groupby('Cause Name')['Deaths'].sum().reset_index()\n",
    "cum_NE_2006_2017 "
   ]
  },
  {
   "cell_type": "code",
   "execution_count": 18,
   "id": "a93d96e6",
   "metadata": {},
   "outputs": [
    {
     "name": "stdout",
     "output_type": "stream",
     "text": [
      "Cumulative heart disease 2016-2018 in NE is: 763.79\n"
     ]
    }
   ],
   "source": [
    "# Heart Disease Cum for NE including 2018\n",
    "#https://www.cdc.gov/nchs/pressroom/sosmap/heart_disease_mortality/heart_disease.htm for 2018 val\n",
    "heart_disease_NE_2018 = 3539\n",
    "heart_disease_cum_NE_2006_2018 = cum_NE_2006_2017[cum_NE_2006_2017[\"Cause Name\"]==\"Heart disease\"][\"Deaths\"] + heart_disease_NE_2018\n",
    "\n",
    "heart_disease_KE_cum = int(heart_disease_cum_NE_2006_2018)*kearney_to_neb_ratio\n",
    "print(\"Cumulative heart disease 2016-2018 in NE is:\", round(heart_disease_KE_cum, 2))\n",
    "\n"
   ]
  },
  {
   "cell_type": "code",
   "execution_count": 19,
   "id": "e0f63340",
   "metadata": {},
   "outputs": [
    {
     "data": {
      "text/html": [
       "<div>\n",
       "<style scoped>\n",
       "    .dataframe tbody tr th:only-of-type {\n",
       "        vertical-align: middle;\n",
       "    }\n",
       "\n",
       "    .dataframe tbody tr th {\n",
       "        vertical-align: top;\n",
       "    }\n",
       "\n",
       "    .dataframe thead th {\n",
       "        text-align: right;\n",
       "    }\n",
       "</style>\n",
       "<table border=\"1\" class=\"dataframe\">\n",
       "  <thead>\n",
       "    <tr style=\"text-align: right;\">\n",
       "      <th></th>\n",
       "      <th>Cause</th>\n",
       "      <th>Deaths</th>\n",
       "    </tr>\n",
       "  </thead>\n",
       "  <tbody>\n",
       "    <tr>\n",
       "      <th>0</th>\n",
       "      <td>Fire Arms</td>\n",
       "      <td>35.727921</td>\n",
       "    </tr>\n",
       "    <tr>\n",
       "      <th>1</th>\n",
       "      <td>Traffic Fatalities</td>\n",
       "      <td>49.905394</td>\n",
       "    </tr>\n",
       "    <tr>\n",
       "      <th>2</th>\n",
       "      <td>Heart Disease</td>\n",
       "      <td>763.791978</td>\n",
       "    </tr>\n",
       "    <tr>\n",
       "      <th>3</th>\n",
       "      <td>Homocide</td>\n",
       "      <td>12.675315</td>\n",
       "    </tr>\n",
       "  </tbody>\n",
       "</table>\n",
       "</div>"
      ],
      "text/plain": [
       "                Cause      Deaths\n",
       "0           Fire Arms   35.727921\n",
       "1  Traffic Fatalities   49.905394\n",
       "2       Heart Disease  763.791978\n",
       "3            Homocide   12.675315"
      ]
     },
     "execution_count": 19,
     "metadata": {},
     "output_type": "execute_result"
    }
   ],
   "source": [
    "# Create a dataframe of non pollution causes and rates 2006-2018\n",
    "\n",
    "\n",
    "causes = [\"Fire Arms\", \"Traffic Fatalities\", \"Heart Disease\", \"Homocide\"]\n",
    "deaths = [fire_arm_deaths_KE_cum, traffic_fatality_KE_cum, heart_disease_KE_cum, cum_homicide_KE] \n",
    "\n",
    "mortality_other = pd.DataFrame ({\n",
    "    'Cause': causes,\n",
    "    \"Deaths\": deaths })\n",
    "    \n",
    "mortality_other\n",
    "    \n",
    "    "
   ]
  },
  {
   "cell_type": "code",
   "execution_count": 20,
   "id": "f6758818",
   "metadata": {},
   "outputs": [],
   "source": [
    "# Save to file \n",
    "f_out = \"Data/Other_Cause_Mortality.csv\"\n",
    "mortality_other.to_csv(f_out, index= False)"
   ]
  },
  {
   "cell_type": "markdown",
   "id": "ec892179",
   "metadata": {},
   "source": [
    "# Chat GPT Attribution \n",
    "\n",
    "The following function(s) or codeblock(s) contained in this notebook were written with assistance from Chat GPT available at: https://chat.openai.com/. In some cases, code suggested by Chat GPT was then further modified by the Notebook author, Sue Boyd\n",
    "\n",
    "***\n",
    "For assitance writing the \"calculate_cagr\" function, Chat GPT was given the following prompt:\n",
    "    \n",
    "\"I have two variables pop2000 and pop2010 representing population in 2000 and 2010 respectively.  In python calculate the compound annual growth rate\"    "
   ]
  },
  {
   "cell_type": "markdown",
   "id": "b72e5953",
   "metadata": {},
   "source": [
    "These are age adjusted figures so some are a bit different then above, but general ballparks look right.   "
   ]
  }
 ],
 "metadata": {
  "kernelspec": {
   "display_name": "Python 3 (ipykernel)",
   "language": "python",
   "name": "python3"
  },
  "language_info": {
   "codemirror_mode": {
    "name": "ipython",
    "version": 3
   },
   "file_extension": ".py",
   "mimetype": "text/x-python",
   "name": "python",
   "nbconvert_exporter": "python",
   "pygments_lexer": "ipython3",
   "version": "3.8.16"
  }
 },
 "nbformat": 4,
 "nbformat_minor": 5
}
