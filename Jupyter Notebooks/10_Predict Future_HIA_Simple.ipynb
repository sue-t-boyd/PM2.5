{
 "cells": [
  {
   "cell_type": "markdown",
   "id": "6fe247df",
   "metadata": {},
   "source": [
    "# Predict_Future_HIA_Simple\n",
    "This notebook estimates future premature mortality due to smoke pollution among residents of Kearney, Nebrasaka.  The prediction model is based on a simple linear regresssion model of fire related PM25 pollution, constructed from the yearly PM 25 pollution estiamtes from the O'Dell et. al data for 2006-2018. Confidence intervals are consutructed using bootstrapping to account for the commbined uncertainty in: (1) future fire-related soke pollution estimates and (2) Beta values in the Health Impact Assessment equations.  \n",
    "\n",
    "\n",
    "# License \n",
    "This code was developed by Susan Boyd for use in HW1 assigned in DATA 512, a course in the UW MS Data Science degree program. This code is provided under an MIT license.\n"
   ]
  },
  {
   "cell_type": "markdown",
   "id": "36e4cb6d",
   "metadata": {},
   "source": [
    "# Step 0 set up notebook "
   ]
  },
  {
   "cell_type": "code",
   "execution_count": 1,
   "id": "f0d3ec7a",
   "metadata": {},
   "outputs": [],
   "source": [
    "# import needed libraries \n",
    "import numpy as np\n",
    "import pandas as pd\n",
    "import matplotlib.pyplot as plt\n",
    "import time\n",
    "import math\n",
    "from sklearn.linear_model import LinearRegression\n",
    "from sklearn.metrics import make_scorer, mean_squared_error\n",
    "import seaborn as sns"
   ]
  },
  {
   "cell_type": "markdown",
   "id": "b6e8ab34",
   "metadata": {},
   "source": [
    "# Step 1 Load Data "
   ]
  },
  {
   "cell_type": "markdown",
   "id": "b6ae5f9a",
   "metadata": {},
   "source": [
    "Load annual smoke PM25 impact based on O'Dell data "
   ]
  },
  {
   "cell_type": "code",
   "execution_count": 2,
   "id": "992cbb9b",
   "metadata": {},
   "outputs": [
    {
     "data": {
      "text/html": [
       "<div>\n",
       "<style scoped>\n",
       "    .dataframe tbody tr th:only-of-type {\n",
       "        vertical-align: middle;\n",
       "    }\n",
       "\n",
       "    .dataframe tbody tr th {\n",
       "        vertical-align: top;\n",
       "    }\n",
       "\n",
       "    .dataframe thead th {\n",
       "        text-align: right;\n",
       "    }\n",
       "</style>\n",
       "<table border=\"1\" class=\"dataframe\">\n",
       "  <thead>\n",
       "    <tr style=\"text-align: right;\">\n",
       "      <th></th>\n",
       "      <th>Year</th>\n",
       "      <th>Mean PM25 Smoke Days</th>\n",
       "      <th>Mean PM25 Non-Smoke Days</th>\n",
       "      <th>Diff in Mean PM25</th>\n",
       "      <th>Num Smoke Days</th>\n",
       "      <th>Avg. Annual Delta_PM25</th>\n",
       "      <th>Annual Mean Combined</th>\n",
       "      <th>Ave Impact Per Day</th>\n",
       "    </tr>\n",
       "  </thead>\n",
       "  <tbody>\n",
       "    <tr>\n",
       "      <th>8</th>\n",
       "      <td>2014</td>\n",
       "      <td>9.711379</td>\n",
       "      <td>7.430915</td>\n",
       "      <td>2.280464</td>\n",
       "      <td>41.0</td>\n",
       "      <td>0.256162</td>\n",
       "      <td>7.687077</td>\n",
       "      <td>0.256162</td>\n",
       "    </tr>\n",
       "    <tr>\n",
       "      <th>9</th>\n",
       "      <td>2015</td>\n",
       "      <td>9.982605</td>\n",
       "      <td>6.395674</td>\n",
       "      <td>3.586932</td>\n",
       "      <td>46.0</td>\n",
       "      <td>0.452052</td>\n",
       "      <td>6.847725</td>\n",
       "      <td>0.452052</td>\n",
       "    </tr>\n",
       "    <tr>\n",
       "      <th>10</th>\n",
       "      <td>2016</td>\n",
       "      <td>6.636919</td>\n",
       "      <td>5.287996</td>\n",
       "      <td>1.348923</td>\n",
       "      <td>45.0</td>\n",
       "      <td>0.166306</td>\n",
       "      <td>5.453848</td>\n",
       "      <td>0.166306</td>\n",
       "    </tr>\n",
       "    <tr>\n",
       "      <th>11</th>\n",
       "      <td>2017</td>\n",
       "      <td>7.511007</td>\n",
       "      <td>5.361542</td>\n",
       "      <td>2.149465</td>\n",
       "      <td>53.0</td>\n",
       "      <td>0.312114</td>\n",
       "      <td>5.673656</td>\n",
       "      <td>0.312114</td>\n",
       "    </tr>\n",
       "    <tr>\n",
       "      <th>12</th>\n",
       "      <td>2018</td>\n",
       "      <td>9.079763</td>\n",
       "      <td>5.503789</td>\n",
       "      <td>3.575974</td>\n",
       "      <td>63.0</td>\n",
       "      <td>0.617223</td>\n",
       "      <td>6.121012</td>\n",
       "      <td>0.617223</td>\n",
       "    </tr>\n",
       "  </tbody>\n",
       "</table>\n",
       "</div>"
      ],
      "text/plain": [
       "    Year  Mean PM25 Smoke Days  Mean PM25 Non-Smoke Days  Diff in Mean PM25  \\\n",
       "8   2014              9.711379                  7.430915           2.280464   \n",
       "9   2015              9.982605                  6.395674           3.586932   \n",
       "10  2016              6.636919                  5.287996           1.348923   \n",
       "11  2017              7.511007                  5.361542           2.149465   \n",
       "12  2018              9.079763                  5.503789           3.575974   \n",
       "\n",
       "    Num Smoke Days  Avg. Annual Delta_PM25  Annual Mean Combined  \\\n",
       "8             41.0                0.256162              7.687077   \n",
       "9             46.0                0.452052              6.847725   \n",
       "10            45.0                0.166306              5.453848   \n",
       "11            53.0                0.312114              5.673656   \n",
       "12            63.0                0.617223              6.121012   \n",
       "\n",
       "    Ave Impact Per Day  \n",
       "8             0.256162  \n",
       "9             0.452052  \n",
       "10            0.166306  \n",
       "11            0.312114  \n",
       "12            0.617223  "
      ]
     },
     "execution_count": 2,
     "metadata": {},
     "output_type": "execute_result"
    }
   ],
   "source": [
    "f = \"Data\\Annual Summary PM25 Data ODell.csv\"\n",
    "impact_df = pd.read_csv(f)\n",
    "impact_df[\"Ave Impact Per Day\"] = impact_df[\"Diff in Mean PM25\"]*impact_df[\"Num Smoke Days\"]/365\n",
    "impact_df.tail()"
   ]
  },
  {
   "cell_type": "markdown",
   "id": "c85a2846",
   "metadata": {},
   "source": [
    "Load Kearney population data and projections "
   ]
  },
  {
   "cell_type": "code",
   "execution_count": 3,
   "id": "33f30767",
   "metadata": {},
   "outputs": [
    {
     "data": {
      "text/html": [
       "<div>\n",
       "<style scoped>\n",
       "    .dataframe tbody tr th:only-of-type {\n",
       "        vertical-align: middle;\n",
       "    }\n",
       "\n",
       "    .dataframe tbody tr th {\n",
       "        vertical-align: top;\n",
       "    }\n",
       "\n",
       "    .dataframe thead th {\n",
       "        text-align: right;\n",
       "    }\n",
       "</style>\n",
       "<table border=\"1\" class=\"dataframe\">\n",
       "  <thead>\n",
       "    <tr style=\"text-align: right;\">\n",
       "      <th></th>\n",
       "      <th>Year</th>\n",
       "      <th>Pop</th>\n",
       "    </tr>\n",
       "  </thead>\n",
       "  <tbody>\n",
       "    <tr>\n",
       "      <th>0</th>\n",
       "      <td>2000</td>\n",
       "      <td>27431</td>\n",
       "    </tr>\n",
       "    <tr>\n",
       "      <th>1</th>\n",
       "      <td>2001</td>\n",
       "      <td>27749</td>\n",
       "    </tr>\n",
       "    <tr>\n",
       "      <th>2</th>\n",
       "      <td>2002</td>\n",
       "      <td>28072</td>\n",
       "    </tr>\n",
       "    <tr>\n",
       "      <th>3</th>\n",
       "      <td>2003</td>\n",
       "      <td>28397</td>\n",
       "    </tr>\n",
       "    <tr>\n",
       "      <th>4</th>\n",
       "      <td>2004</td>\n",
       "      <td>28727</td>\n",
       "    </tr>\n",
       "  </tbody>\n",
       "</table>\n",
       "</div>"
      ],
      "text/plain": [
       "   Year    Pop\n",
       "0  2000  27431\n",
       "1  2001  27749\n",
       "2  2002  28072\n",
       "3  2003  28397\n",
       "4  2004  28727"
      ]
     },
     "execution_count": 3,
     "metadata": {},
     "output_type": "execute_result"
    }
   ],
   "source": [
    "f = \"Data\\Kearney_Pop.csv\"\n",
    "KEARNEY_POP = pd.read_csv(f)\n",
    "KEARNEY_POP.head()"
   ]
  },
  {
   "cell_type": "markdown",
   "id": "06667d77",
   "metadata": {},
   "source": [
    "# Step 2 - Make a Smoke Impact Model"
   ]
  },
  {
   "cell_type": "code",
   "execution_count": 4,
   "id": "364608d3",
   "metadata": {},
   "outputs": [
    {
     "name": "stdout",
     "output_type": "stream",
     "text": [
      "Coefficients: [[0.03350763 0.        ]]\n",
      "Intercept: [-67.13813792]\n",
      "R-squared: 0.33368702115234916\n",
      "Mean Squared Error on train set : 0.031387335413922655\n"
     ]
    }
   ],
   "source": [
    "# OLS regression using sklearn \n",
    "x1 = impact_df[\"Year\"] \n",
    "x2 = np.ones(len(x1))\n",
    "y = impact_df[[\"Ave Impact Per Day\"]]\n",
    "X = pd.DataFrame({'Year': x1, 'Constant': x2})\n",
    "\n",
    "\n",
    "#build linear regression model\n",
    "model_OLS = LinearRegression()\n",
    "model_OLS.fit(X, y)\n",
    "\n",
    "# Coefficients and intercept\n",
    "coefficients = model_OLS.coef_\n",
    "intercept = model_OLS.intercept_\n",
    "\n",
    "# R-squared score\n",
    "r_squared = model_OLS.score(X, y)\n",
    "\n",
    "# Make predictions using the model\n",
    "y_pred = model_OLS.predict(X)\n",
    "\n",
    "# Calculate the Mean Squared Error\n",
    "mse = mean_squared_error(y, y_pred)\n",
    "\n",
    "# Print the results\n",
    "print(\"Coefficients:\", coefficients)\n",
    "print(\"Intercept:\", intercept)\n",
    "print(\"R-squared:\", r_squared)\n",
    "print(\"Mean Squared Error on train set :\", mse)"
   ]
  },
  {
   "cell_type": "code",
   "execution_count": 5,
   "id": "9548b499",
   "metadata": {},
   "outputs": [
    {
     "data": {
      "image/png": "[encoded data removed]",
      "text/plain": [
       "<Figure size 720x288 with 1 Axes>"
      ]
     },
     "metadata": {
      "needs_background": "light"
     },
     "output_type": "display_data"
    }
   ],
   "source": [
    "# graph the results of the model \n",
    " # Plot the original data and the model fit\n",
    "    \n",
    "    \n",
    "fig, ax = plt.subplots(figsize=(10, 4))\n",
    "plt.scatter(X[\"Year\"], y, label='Original Data', color='blue')\n",
    "plt.plot(X[\"Year\"], model_OLS.predict(X), color='red', label='Model_Fit')\n",
    "plt.legend(fontsize = 16)\n",
    "plt.annotate(f'R² = {r_squared:.2f}', xy=(0.95, 0.05), xycoords='axes fraction',\n",
    "             ha='right', va='bottom', fontsize=20, color='black', bbox=dict(boxstyle='round', facecolor='white', edgecolor='black'))\n",
    "\n",
    "plt.ylabel(\"ug/m-3\", fontsize = 16)\n",
    "\n",
    "\n",
    "\n",
    "# Save the plot as a JPG file\n",
    "f_out = \"Visuals/Figure 11.jpg\"\n",
    "plt.savefig(f_out)\n",
    "plt.savefig(f_out, bbox_inches=\"tight\", pad_inches=0.1)\n",
    "\n",
    "# Add title and display \n",
    "t = \"Average Annual Fire Related PM25 Regression vs. Year and a Constant\"\n",
    "plt.title(t, fontsize = 20) \n",
    "plt.show(); \n",
    "\n"
   ]
  },
  {
   "cell_type": "markdown",
   "id": "4027d1e4",
   "metadata": {},
   "source": [
    "# Step 3 - Prediction Smoke Impacts & CI"
   ]
  },
  {
   "cell_type": "markdown",
   "id": "aa2d4ffc",
   "metadata": {},
   "source": [
    "Define a function that creates bootsrapped confidence intervals given a model, X, y, new_X"
   ]
  },
  {
   "cell_type": "code",
   "execution_count": 6,
   "id": "4b3b2916",
   "metadata": {},
   "outputs": [],
   "source": [
    "# Create bootstrapped CIs for model\n",
    "# See Chat GPT Attribution Note at end of Notebook \n",
    "\n",
    "\n",
    "def calc_CI (X, y, new_X, model, number = 1000):\n",
    "\n",
    "    # Number of bootstrap iterations\n",
    "    n_bootstrap = number\n",
    "\n",
    "    # Initialize arrays to store bootstrapped results\n",
    "    b_results = pd.DataFrame({\"Year\": new_X[\"Year\"]})\n",
    "\n",
    "    # Perform bootstrapping\n",
    "    for i in range(n_bootstrap):\n",
    "        # Resample data with replacement\n",
    "        sample_indices = np.random.choice(X.shape[0], X.shape[0], replace=True).tolist()\n",
    "        sample_indices.sort()\n",
    "        resampled_X = X.iloc[sample_indices]\n",
    "        resampled_y = y.iloc[sample_indices]\n",
    "\n",
    "        # Fit the model to the resampled data\n",
    "        model.fit(resampled_X, resampled_y)\n",
    "    \n",
    "        # Predict y values for new_x\n",
    "        predicted_y = model.predict(new_X)\n",
    "        predicted_y_df = pd.DataFrame(predicted_y, columns=[i])\n",
    "                \n",
    "        # Store the results for this iteration\n",
    "        b_results = pd.concat([b_results, predicted_y_df], axis = 1 )\n",
    "\n",
    "    \n",
    "    #Calculate lower and upper percentiles to create confidence intervals\n",
    "    lower_percentile = 2.5  # Lower bound for 95% confidence interval\n",
    "    upper_percentile = 97.5  # Upper bound for 95% confidence interval\n",
    "\n",
    "    cols = b_results.columns.drop(\"Year\")\n",
    "    lower_bounds = np.percentile(b_results[cols], lower_percentile, axis=1)\n",
    "    upper_bounds = np.percentile(b_results[cols], upper_percentile, axis=1)\n",
    "\n",
    "    results = pd.DataFrame ({\n",
    "        \"Year\": new_X[\"Year\"],\n",
    "        \"Lower Bounds\": lower_bounds,\n",
    "        \"Upper Bounds\": upper_bounds\n",
    "    })\n",
    "    \n",
    "    return results \n",
    "    "
   ]
  },
  {
   "cell_type": "markdown",
   "id": "f3927955",
   "metadata": {},
   "source": [
    "Define a function that creates future predictions, and graphs existing data/model and predictions "
   ]
  },
  {
   "cell_type": "code",
   "execution_count": 7,
   "id": "eb672f6b",
   "metadata": {},
   "outputs": [],
   "source": [
    "# given a model, an original X, y, and a new X (for prediction)\n",
    "# graph the original data, the predicted values for the original data, and the \n",
    "# predicted values for the new X \n",
    "\n",
    "def graph_and_predict(model, X, y, new_X, number = 1000):\n",
    "\n",
    "    # create the new predictins \n",
    "    new_y = model.predict(new_X)\n",
    "    results = pd.DataFrame(new_y, columns = [\"Predicted\"])\n",
    "    \n",
    "    \n",
    "    # Plot the original data and the model fit\n",
    "    plt.scatter(X[\"Year\"], y, label='Original Data', color='blue')\n",
    "    plt.plot(X[\"Year\"], model.predict(X), color='red', label='Model_Fit')\n",
    "    plt.plot(new_X[\"Year\"], new_y, 'o', color='green', label='Predicted Values')\n",
    "    \n",
    "    # Plot the CI interval for the prediction \n",
    "    CI = calc_CI(X, y, new_X, model, number = number)\n",
    "    plt.fill_between(future_years, CI[\"Lower Bounds\"], CI[\"Upper Bounds\"], color='lightgray', label='95% Confidence Interval')\n",
    "    \n",
    "    results = pd.concat([results, CI], axis =1)\n",
    "\n",
    "    # Set labels and legend\n",
    "    plt.xlabel('Year')\n",
    "    plt.ylabel('Smoke Impact')\n",
    "    plt.legend(loc='upper left')\n",
    "    plt.ylim(bottom=0)\n",
    "\n",
    "    # Show the plot\n",
    "    plt.show()\n",
    "    \n",
    "    return results\n",
    "\n"
   ]
  },
  {
   "cell_type": "markdown",
   "id": "8a38a492",
   "metadata": {},
   "source": [
    "Define new_X values for prediction"
   ]
  },
  {
   "cell_type": "code",
   "execution_count": 8,
   "id": "91acd7e2",
   "metadata": {},
   "outputs": [],
   "source": [
    "# Define new_X values for prediction\n",
    "future_years = list(range(2019, 2030))\n",
    "x2 = np.ones(len(future_years))\n",
    "new_X = pd.DataFrame({'Year': future_years, 'Constant': x2})"
   ]
  },
  {
   "cell_type": "code",
   "execution_count": 9,
   "id": "ea2e3aa9",
   "metadata": {},
   "outputs": [
    {
     "data": {
      "image/png": "[encoded data removed]",
      "text/plain": [
       "<Figure size 432x288 with 1 Axes>"
      ]
     },
     "metadata": {
      "needs_background": "light"
     },
     "output_type": "display_data"
    },
    {
     "data": {
      "text/html": [
       "<div>\n",
       "<style scoped>\n",
       "    .dataframe tbody tr th:only-of-type {\n",
       "        vertical-align: middle;\n",
       "    }\n",
       "\n",
       "    .dataframe tbody tr th {\n",
       "        vertical-align: top;\n",
       "    }\n",
       "\n",
       "    .dataframe thead th {\n",
       "        text-align: right;\n",
       "    }\n",
       "</style>\n",
       "<table border=\"1\" class=\"dataframe\">\n",
       "  <thead>\n",
       "    <tr style=\"text-align: right;\">\n",
       "      <th></th>\n",
       "      <th>Predicted</th>\n",
       "      <th>Year</th>\n",
       "      <th>Lower Bounds</th>\n",
       "      <th>Upper Bounds</th>\n",
       "    </tr>\n",
       "  </thead>\n",
       "  <tbody>\n",
       "    <tr>\n",
       "      <th>0</th>\n",
       "      <td>0.513770</td>\n",
       "      <td>2019</td>\n",
       "      <td>0.315436</td>\n",
       "      <td>0.737720</td>\n",
       "    </tr>\n",
       "    <tr>\n",
       "      <th>1</th>\n",
       "      <td>0.547277</td>\n",
       "      <td>2020</td>\n",
       "      <td>0.330492</td>\n",
       "      <td>0.792521</td>\n",
       "    </tr>\n",
       "    <tr>\n",
       "      <th>2</th>\n",
       "      <td>0.580785</td>\n",
       "      <td>2021</td>\n",
       "      <td>0.342334</td>\n",
       "      <td>0.849519</td>\n",
       "    </tr>\n",
       "    <tr>\n",
       "      <th>3</th>\n",
       "      <td>0.614292</td>\n",
       "      <td>2022</td>\n",
       "      <td>0.357335</td>\n",
       "      <td>0.908861</td>\n",
       "    </tr>\n",
       "    <tr>\n",
       "      <th>4</th>\n",
       "      <td>0.647800</td>\n",
       "      <td>2023</td>\n",
       "      <td>0.366740</td>\n",
       "      <td>0.967614</td>\n",
       "    </tr>\n",
       "  </tbody>\n",
       "</table>\n",
       "</div>"
      ],
      "text/plain": [
       "   Predicted  Year  Lower Bounds  Upper Bounds\n",
       "0   0.513770  2019      0.315436      0.737720\n",
       "1   0.547277  2020      0.330492      0.792521\n",
       "2   0.580785  2021      0.342334      0.849519\n",
       "3   0.614292  2022      0.357335      0.908861\n",
       "4   0.647800  2023      0.366740      0.967614"
      ]
     },
     "execution_count": 9,
     "metadata": {},
     "output_type": "execute_result"
    }
   ],
   "source": [
    "# calculate and graph the impact estimates\n",
    "impact_est = graph_and_predict(model_OLS, X, y, new_X, number = 1000)\n",
    "impact_est.head()"
   ]
  },
  {
   "cell_type": "code",
   "execution_count": 10,
   "id": "eb225363",
   "metadata": {},
   "outputs": [],
   "source": [
    "# save file results if desired \n",
    "#f_out = \"Data/future_smoke_impact_est_simple.csv\"\n",
    "#impact_est.to_csv(f_out, index = False)"
   ]
  },
  {
   "cell_type": "markdown",
   "id": "b5a318b0",
   "metadata": {},
   "source": [
    "# Step 4 - Predict Future Health Imapacts"
   ]
  },
  {
   "cell_type": "markdown",
   "id": "3fce9cd6",
   "metadata": {},
   "source": [
    "Load HIA_Constants"
   ]
  },
  {
   "cell_type": "code",
   "execution_count": 11,
   "id": "fdfed5ac",
   "metadata": {},
   "outputs": [
    {
     "data": {
      "text/html": [
       "<div>\n",
       "<style scoped>\n",
       "    .dataframe tbody tr th:only-of-type {\n",
       "        vertical-align: middle;\n",
       "    }\n",
       "\n",
       "    .dataframe tbody tr th {\n",
       "        vertical-align: top;\n",
       "    }\n",
       "\n",
       "    .dataframe thead th {\n",
       "        text-align: right;\n",
       "    }\n",
       "</style>\n",
       "<table border=\"1\" class=\"dataframe\">\n",
       "  <thead>\n",
       "    <tr style=\"text-align: right;\">\n",
       "      <th></th>\n",
       "      <th>Event</th>\n",
       "      <th>Baseline</th>\n",
       "      <th>OR</th>\n",
       "      <th>OR_LOWER</th>\n",
       "      <th>OR_UPPER</th>\n",
       "    </tr>\n",
       "  </thead>\n",
       "  <tbody>\n",
       "    <tr>\n",
       "      <th>0</th>\n",
       "      <td>ER</td>\n",
       "      <td>0.006257</td>\n",
       "      <td>1.07</td>\n",
       "      <td>1.03</td>\n",
       "      <td>1.11</td>\n",
       "    </tr>\n",
       "    <tr>\n",
       "      <th>1</th>\n",
       "      <td>Admit</td>\n",
       "      <td>0.001299</td>\n",
       "      <td>1.08</td>\n",
       "      <td>1.03</td>\n",
       "      <td>1.14</td>\n",
       "    </tr>\n",
       "    <tr>\n",
       "      <th>2</th>\n",
       "      <td>Mortality</td>\n",
       "      <td>0.007329</td>\n",
       "      <td>1.06</td>\n",
       "      <td>1.04</td>\n",
       "      <td>1.08</td>\n",
       "    </tr>\n",
       "  </tbody>\n",
       "</table>\n",
       "</div>"
      ],
      "text/plain": [
       "       Event  Baseline    OR  OR_LOWER  OR_UPPER\n",
       "0         ER  0.006257  1.07      1.03      1.11\n",
       "1      Admit  0.001299  1.08      1.03      1.14\n",
       "2  Mortality  0.007329  1.06      1.04      1.08"
      ]
     },
     "execution_count": 11,
     "metadata": {},
     "output_type": "execute_result"
    }
   ],
   "source": [
    "f = \"Data\\HIA_Constants_Raw\\HIA_Constants.xlsx\"\n",
    "HIA_CONSTANTS = pd.read_excel(f)\n",
    "HIA_CONSTANTS.head()"
   ]
  },
  {
   "cell_type": "code",
   "execution_count": 12,
   "id": "fe2c227c",
   "metadata": {},
   "outputs": [
    {
     "data": {
      "text/html": [
       "<div>\n",
       "<style scoped>\n",
       "    .dataframe tbody tr th:only-of-type {\n",
       "        vertical-align: middle;\n",
       "    }\n",
       "\n",
       "    .dataframe tbody tr th {\n",
       "        vertical-align: top;\n",
       "    }\n",
       "\n",
       "    .dataframe thead th {\n",
       "        text-align: right;\n",
       "    }\n",
       "</style>\n",
       "<table border=\"1\" class=\"dataframe\">\n",
       "  <thead>\n",
       "    <tr style=\"text-align: right;\">\n",
       "      <th></th>\n",
       "      <th>Event</th>\n",
       "      <th>Baseline</th>\n",
       "      <th>OR</th>\n",
       "      <th>OR_LOWER</th>\n",
       "      <th>OR_UPPER</th>\n",
       "      <th>Beta</th>\n",
       "      <th>Beta_CI_Lower</th>\n",
       "      <th>Beta_CI_Upper</th>\n",
       "    </tr>\n",
       "  </thead>\n",
       "  <tbody>\n",
       "    <tr>\n",
       "      <th>0</th>\n",
       "      <td>ER</td>\n",
       "      <td>0.006257</td>\n",
       "      <td>1.07</td>\n",
       "      <td>1.03</td>\n",
       "      <td>1.11</td>\n",
       "      <td>0.006766</td>\n",
       "      <td>0.002956</td>\n",
       "      <td>0.010436</td>\n",
       "    </tr>\n",
       "    <tr>\n",
       "      <th>1</th>\n",
       "      <td>Admit</td>\n",
       "      <td>0.001299</td>\n",
       "      <td>1.08</td>\n",
       "      <td>1.03</td>\n",
       "      <td>1.14</td>\n",
       "      <td>0.007696</td>\n",
       "      <td>0.002956</td>\n",
       "      <td>0.013103</td>\n",
       "    </tr>\n",
       "    <tr>\n",
       "      <th>2</th>\n",
       "      <td>Mortality</td>\n",
       "      <td>0.007329</td>\n",
       "      <td>1.06</td>\n",
       "      <td>1.04</td>\n",
       "      <td>1.08</td>\n",
       "      <td>0.005827</td>\n",
       "      <td>0.003922</td>\n",
       "      <td>0.007696</td>\n",
       "    </tr>\n",
       "  </tbody>\n",
       "</table>\n",
       "</div>"
      ],
      "text/plain": [
       "       Event  Baseline    OR  OR_LOWER  OR_UPPER      Beta  Beta_CI_Lower  \\\n",
       "0         ER  0.006257  1.07      1.03      1.11  0.006766       0.002956   \n",
       "1      Admit  0.001299  1.08      1.03      1.14  0.007696       0.002956   \n",
       "2  Mortality  0.007329  1.06      1.04      1.08  0.005827       0.003922   \n",
       "\n",
       "   Beta_CI_Upper  \n",
       "0       0.010436  \n",
       "1       0.013103  \n",
       "2       0.007696  "
      ]
     },
     "execution_count": 12,
     "metadata": {},
     "output_type": "execute_result"
    }
   ],
   "source": [
    "# Set_Betas From OR; display results\n",
    "col = HIA_CONSTANTS[\"OR\"] \n",
    "HIA_CONSTANTS[\"Beta\"] = np.log(col)/10\n",
    "col = HIA_CONSTANTS[\"OR_LOWER\"] \n",
    "HIA_CONSTANTS[\"Beta_CI_Lower\"] =  np.log(col)/10\n",
    "col = HIA_CONSTANTS[\"OR_UPPER\"] \n",
    "HIA_CONSTANTS[\"Beta_CI_Upper\"] =  np.log(col)/10\n",
    "HIA_CONSTANTS"
   ]
  },
  {
   "cell_type": "markdown",
   "id": "c8b7f0f5",
   "metadata": {},
   "source": [
    "Define a function to calculate HIA estimate given a single cause type and Beta "
   ]
  },
  {
   "cell_type": "code",
   "execution_count": 13,
   "id": "d0ee703d",
   "metadata": {},
   "outputs": [],
   "source": [
    "def calc_annual_impact_single_Beta(Year, event, delta_PM25, Beta):\n",
    "    baseline = HIA_CONSTANTS[HIA_CONSTANTS[\"Event\"] == event][\"Baseline\"]\n",
    "    beta = Beta\n",
    "    pop = int(KEARNEY_POP[KEARNEY_POP[\"Year\"]==Year][\"Pop\"])\n",
    "    outcome = float(pop*baseline*(1-np.exp(-beta*delta_PM25)))\n",
    "    return (outcome)"
   ]
  },
  {
   "cell_type": "markdown",
   "id": "24139eb1",
   "metadata": {},
   "source": [
    "Define a function that creates boostrap estimates of the mortality outcome. Each bootstrap sample refits the model with a bootstrapped sample of the data AND randomly draws the value of Beta_mortality from an assumed normal distribution centered on the point estimate of Beta_mortality.\n"
   ]
  },
  {
   "cell_type": "code",
   "execution_count": 14,
   "id": "10b89866",
   "metadata": {},
   "outputs": [],
   "source": [
    "def calc_CI_outcome (X, y, new_X, model, event = \"Mortality\", number = 10000):\n",
    "\n",
    "    \n",
    "    # Sample from a normal distribution centered around the Beta point estimate\n",
    "    # And assuming the 95% CI covers to standard deviations \n",
    "    beta_mean  = HIA_CONSTANTS[HIA_CONSTANTS[\"Event\"] == event][\"Beta\"]\n",
    "    beta_CI_low = HIA_CONSTANTS[HIA_CONSTANTS[\"Event\"] == event][\"Beta_CI_Lower\"]\n",
    "    beta_CI_high = HIA_CONSTANTS[HIA_CONSTANTS[\"Event\"] == event][\"Beta_CI_Upper\"]\n",
    "    st_dev = 0.5*(beta_CI_high-beta_CI_low)\n",
    "    Beta = np.random.normal(loc=beta_mean, scale=st_dev, size=1)\n",
    "    \n",
    "   \n",
    "    # Number of bootstrap iterations\n",
    "    n_bootstrap = number\n",
    "\n",
    "    # Initialize arrays to store bootstrapped results\n",
    "    b_results = pd.DataFrame({\"Year\": new_X[\"Year\"]})\n",
    "\n",
    "    # Perform bootstrapping\n",
    "    for i in range(n_bootstrap):\n",
    "        \n",
    "        if i%1000 == 0:\n",
    "            print(\"On iteration:\", i)\n",
    "        \n",
    "        # Resample data with replacement\n",
    "        sample_indices = np.random.choice(X.shape[0], X.shape[0], replace=True).tolist()\n",
    "        sample_indices.sort()\n",
    "        resampled_X = X.iloc[sample_indices]\n",
    "        resampled_y = y.iloc[sample_indices]\n",
    "        \n",
    "        # Fit the model to the resampled data\n",
    "        model.fit(resampled_X, resampled_y)\n",
    "    \n",
    "        # Predict y values for new_x\n",
    "        predicted_y = model.predict(new_X)\n",
    "        #predicted_y_df = pd.DataFrame(predicted_y, columns=[i])\n",
    "        outcomes = []\n",
    "        for i in range(new_X.shape[0]):\n",
    "            Year = new_X.iloc[i][\"Year\"]\n",
    "            y_val= predicted_y[i]\n",
    "            outcome = calc_annual_impact_single_Beta(Year, event, y_val, Beta)\n",
    "            outcomes.append(outcome)\n",
    "        \n",
    "        # Store the results for this iteration\n",
    "        outcomes = pd.DataFrame(outcomes, columns = [i])\n",
    "        b_results = pd.concat([b_results, outcomes], axis = 1 )\n",
    "    \n",
    "    #Calculate lower and upper percentiles to create confidence intervals\n",
    "    lower_percentile = 2.5  # Lower bound for 95% confidence interval\n",
    "    upper_percentile = 97.5  # Upper bound for 95% confidence interval\n",
    "\n",
    "    cols = b_results.columns.drop(\"Year\")\n",
    "    lower_bounds = np.percentile(b_results[cols], lower_percentile, axis=1)\n",
    "    upper_bounds = np.percentile(b_results[cols], upper_percentile, axis=1)\n",
    "    estimates = np.percentile (b_results[cols], 50, axis=1)\n",
    "  \n",
    "\n",
    "    results = pd.DataFrame ({\n",
    "        \"Year\": new_X[\"Year\"],\n",
    "        \"Estimate\": estimates,\n",
    "        \"Lower Bound\": lower_bounds,\n",
    "        \"Upper Bound\": upper_bounds\n",
    "    })\n",
    "    \n",
    "    return results \n",
    "    "
   ]
  },
  {
   "cell_type": "code",
   "execution_count": 15,
   "id": "d8bc7fa7",
   "metadata": {},
   "outputs": [
    {
     "name": "stdout",
     "output_type": "stream",
     "text": [
      "On iteration: 0\n",
      "On iteration: 1000\n",
      "On iteration: 2000\n",
      "On iteration: 3000\n",
      "On iteration: 4000\n"
     ]
    },
    {
     "data": {
      "text/html": [
       "<div>\n",
       "<style scoped>\n",
       "    .dataframe tbody tr th:only-of-type {\n",
       "        vertical-align: middle;\n",
       "    }\n",
       "\n",
       "    .dataframe tbody tr th {\n",
       "        vertical-align: top;\n",
       "    }\n",
       "\n",
       "    .dataframe thead th {\n",
       "        text-align: right;\n",
       "    }\n",
       "</style>\n",
       "<table border=\"1\" class=\"dataframe\">\n",
       "  <thead>\n",
       "    <tr style=\"text-align: right;\">\n",
       "      <th></th>\n",
       "      <th>Year</th>\n",
       "      <th>Estimate</th>\n",
       "      <th>Lower Bound</th>\n",
       "      <th>Upper Bound</th>\n",
       "    </tr>\n",
       "  </thead>\n",
       "  <tbody>\n",
       "    <tr>\n",
       "      <th>0</th>\n",
       "      <td>2019</td>\n",
       "      <td>0.916704</td>\n",
       "      <td>0.566543</td>\n",
       "      <td>1.328119</td>\n",
       "    </tr>\n",
       "    <tr>\n",
       "      <th>1</th>\n",
       "      <td>2020</td>\n",
       "      <td>0.985786</td>\n",
       "      <td>0.598437</td>\n",
       "      <td>1.436577</td>\n",
       "    </tr>\n",
       "    <tr>\n",
       "      <th>2</th>\n",
       "      <td>2021</td>\n",
       "      <td>1.056411</td>\n",
       "      <td>0.628595</td>\n",
       "      <td>1.549492</td>\n",
       "    </tr>\n",
       "    <tr>\n",
       "      <th>3</th>\n",
       "      <td>2022</td>\n",
       "      <td>1.128711</td>\n",
       "      <td>0.658753</td>\n",
       "      <td>1.663646</td>\n",
       "    </tr>\n",
       "    <tr>\n",
       "      <th>4</th>\n",
       "      <td>2023</td>\n",
       "      <td>1.201407</td>\n",
       "      <td>0.682243</td>\n",
       "      <td>1.783755</td>\n",
       "    </tr>\n",
       "  </tbody>\n",
       "</table>\n",
       "</div>"
      ],
      "text/plain": [
       "   Year  Estimate  Lower Bound  Upper Bound\n",
       "0  2019  0.916704     0.566543     1.328119\n",
       "1  2020  0.985786     0.598437     1.436577\n",
       "2  2021  1.056411     0.628595     1.549492\n",
       "3  2022  1.128711     0.658753     1.663646\n",
       "4  2023  1.201407     0.682243     1.783755"
      ]
     },
     "execution_count": 15,
     "metadata": {},
     "output_type": "execute_result"
    }
   ],
   "source": [
    "results = calc_CI_outcome (X, y, new_X, model_OLS, event = \"Mortality\", number = 5000)\n",
    "results.head()"
   ]
  },
  {
   "cell_type": "markdown",
   "id": "2b1fe524",
   "metadata": {},
   "source": [
    "Define a function to graph the results of the HIA estimates, with CI"
   ]
  },
  {
   "cell_type": "code",
   "execution_count": 23,
   "id": "da462583",
   "metadata": {},
   "outputs": [],
   "source": [
    "# Function that takes as an input a dataframe with columns\n",
    "# \"Year\", \"Estimate\", \"Lower Bound\" and \"Upper Bound\"\n",
    "# And creates a graph of  predictions and confidence intervals \n",
    "\n",
    "def graph_HIA_predict(df):\n",
    "    \n",
    "    # Plot the estimates (historical) and predictions (future) \n",
    "    plt.figure(figsize=(10, 4))\n",
    "    plt.plot(df[\"Year\"], df[\"Estimate\"], label='Estimated/Predicted Value', color='blue', linewidth=3)\n",
    "    # Plot the CI interval for the prediction \n",
    "    plt.fill_between(df[\"Year\"], df[\"Lower Bound\"], df[\"Upper Bound\"], \\\n",
    "                     color='lightgray', label='95% Confidence Interval')\n",
    "    \n",
    "    plt.axhline(y=1, color='red', linestyle='--', label='1 Premature Death Per Year')\n",
    "    \n",
    "    \n",
    "    # Set labels and legend\n",
    "    plt.ylabel('Residents of Kearney', fontsize = 14)\n",
    "    plt.legend(loc='upper left', fontsize = 14)\n",
    "    plt.xticks(fontsize=12)\n",
    "    plt.yticks(fontsize = 12)\n",
    "\n",
    "    # Show the plot\n",
    "    plt.show()"
   ]
  },
  {
   "cell_type": "code",
   "execution_count": 20,
   "id": "3485afc9",
   "metadata": {},
   "outputs": [
    {
     "data": {
      "text/html": [
       "<div>\n",
       "<style scoped>\n",
       "    .dataframe tbody tr th:only-of-type {\n",
       "        vertical-align: middle;\n",
       "    }\n",
       "\n",
       "    .dataframe tbody tr th {\n",
       "        vertical-align: top;\n",
       "    }\n",
       "\n",
       "    .dataframe thead th {\n",
       "        text-align: right;\n",
       "    }\n",
       "</style>\n",
       "<table border=\"1\" class=\"dataframe\">\n",
       "  <thead>\n",
       "    <tr style=\"text-align: right;\">\n",
       "      <th></th>\n",
       "      <th>Year</th>\n",
       "      <th>Estimate</th>\n",
       "      <th>Lower Bound</th>\n",
       "      <th>Upper Bound</th>\n",
       "    </tr>\n",
       "  </thead>\n",
       "  <tbody>\n",
       "    <tr>\n",
       "      <th>0</th>\n",
       "      <td>2006</td>\n",
       "      <td>0.071605</td>\n",
       "      <td>0.048200</td>\n",
       "      <td>0.094570</td>\n",
       "    </tr>\n",
       "    <tr>\n",
       "      <th>1</th>\n",
       "      <td>2007</td>\n",
       "      <td>0.135153</td>\n",
       "      <td>0.090980</td>\n",
       "      <td>0.178491</td>\n",
       "    </tr>\n",
       "    <tr>\n",
       "      <th>2</th>\n",
       "      <td>2008</td>\n",
       "      <td>0.404902</td>\n",
       "      <td>0.272621</td>\n",
       "      <td>0.534633</td>\n",
       "    </tr>\n",
       "    <tr>\n",
       "      <th>3</th>\n",
       "      <td>2009</td>\n",
       "      <td>0.070977</td>\n",
       "      <td>0.047777</td>\n",
       "      <td>0.093741</td>\n",
       "    </tr>\n",
       "    <tr>\n",
       "      <th>4</th>\n",
       "      <td>2010</td>\n",
       "      <td>-0.030750</td>\n",
       "      <td>-0.020697</td>\n",
       "      <td>-0.040615</td>\n",
       "    </tr>\n",
       "  </tbody>\n",
       "</table>\n",
       "</div>"
      ],
      "text/plain": [
       "   Year  Estimate  Lower Bound  Upper Bound\n",
       "0  2006  0.071605     0.048200     0.094570\n",
       "1  2007  0.135153     0.090980     0.178491\n",
       "2  2008  0.404902     0.272621     0.534633\n",
       "3  2009  0.070977     0.047777     0.093741\n",
       "4  2010 -0.030750    -0.020697    -0.040615"
      ]
     },
     "execution_count": 20,
     "metadata": {},
     "output_type": "execute_result"
    }
   ],
   "source": [
    "f = 'Data/historical_impacts.csv'\n",
    "historical_impacts = pd.read_csv(f)\n",
    "historical_impacts_mortality = historical_impacts[[\"Year\", \"Excess Mortality\", \"Mortality CI Lower\", \"Mortality CI Upper\"]]\n",
    "df = historical_impacts_mortality.rename(columns={'Excess Mortality': 'Estimate'})\n",
    "df = df.rename(columns={'Mortality CI Lower': 'Lower Bound'})\n",
    "df = df.rename(columns={'Mortality CI Upper': 'Upper Bound'})\n",
    "df.head()"
   ]
  },
  {
   "cell_type": "code",
   "execution_count": 24,
   "id": "4b2b796b",
   "metadata": {},
   "outputs": [
    {
     "data": {
      "image/png": "[encoded data removed]",
      "text/plain": [
       "<Figure size 720x288 with 1 Axes>"
      ]
     },
     "metadata": {
      "needs_background": "light"
     },
     "output_type": "display_data"
    }
   ],
   "source": [
    "# let's graph combined 2006-2018 + future \n",
    "results_all = pd.concat([df, results], axis = 0)\n",
    "graph_HIA_predict(results_all)\n"
   ]
  },
  {
   "cell_type": "code",
   "execution_count": null,
   "id": "bd53aeca",
   "metadata": {},
   "outputs": [],
   "source": []
  }
 ],
 "metadata": {
  "kernelspec": {
   "display_name": "Python 3 (ipykernel)",
   "language": "python",
   "name": "python3"
  },
  "language_info": {
   "codemirror_mode": {
    "name": "ipython",
    "version": 3
   },
   "file_extension": ".py",
   "mimetype": "text/x-python",
   "name": "python",
   "nbconvert_exporter": "python",
   "pygments_lexer": "ipython3",
   "version": "3.8.16"
  }
 },
 "nbformat": 4,
 "nbformat_minor": 5
}
