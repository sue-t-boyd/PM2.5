{
 "cells": [
  {
   "cell_type": "markdown",
   "id": "aff9baf0",
   "metadata": {},
   "source": [
    "# Calculate HIA\n",
    "\n",
    "This notebook caclulates Health Impact Assesments on Kearney, Nebraska, using estimates of average annual PM2.5 pollution.  It also explores sensitivity of the analysis to calculating HIA estimates based on average annual pollution, rather than daily polution. Finally, it creates a graph comparing premature mortality from fire pollution to other causes of premature mortality. \n",
    "\n",
    "# License \n",
    "This code was developed by Susan Boyd for use in HW1 assigned in DATA 512, a course in the UW MS Data Science degree program. This code is provided under an MIT license.\n",
    "\n",
    "# Chat GPT Attribution\n",
    "Selected functions or codeblocks in this Notebook were created with assistance from Chat GPT (https://chat.openai.com/). For any function or codeblock that was created with assistance from Chat GPT, the impacted code is isolated in a function or procedure and the use of Chat GPT is noted. Information on the prompts used to query Chat GPT isprovided at the end of the file. \n"
   ]
  },
  {
   "cell_type": "markdown",
   "id": "501274bb",
   "metadata": {},
   "source": [
    "# Step 0 - Set Up Notebook "
   ]
  },
  {
   "cell_type": "code",
   "execution_count": 1,
   "id": "c15ebb76",
   "metadata": {},
   "outputs": [],
   "source": [
    "# import needed libraries\n",
    "\n",
    "import pandas as pd\n",
    "import numpy as np \n",
    "import matplotlib.pyplot as plt\n",
    "import forestplot as fp"
   ]
  },
  {
   "cell_type": "markdown",
   "id": "90f72317",
   "metadata": {},
   "source": [
    "# Step: 1 Load Data "
   ]
  },
  {
   "cell_type": "markdown",
   "id": "80c606e3",
   "metadata": {},
   "source": [
    "Load and Examine Smoke Impact Estimates 2006-2008 Based on ODell Data"
   ]
  },
  {
   "cell_type": "code",
   "execution_count": 2,
   "id": "c31ed62e",
   "metadata": {},
   "outputs": [
    {
     "data": {
      "text/html": [
       "<div>\n",
       "<style scoped>\n",
       "    .dataframe tbody tr th:only-of-type {\n",
       "        vertical-align: middle;\n",
       "    }\n",
       "\n",
       "    .dataframe tbody tr th {\n",
       "        vertical-align: top;\n",
       "    }\n",
       "\n",
       "    .dataframe thead th {\n",
       "        text-align: right;\n",
       "    }\n",
       "</style>\n",
       "<table border=\"1\" class=\"dataframe\">\n",
       "  <thead>\n",
       "    <tr style=\"text-align: right;\">\n",
       "      <th></th>\n",
       "      <th>Year</th>\n",
       "      <th>Mean PM25 Smoke Days</th>\n",
       "      <th>Mean PM25 Non-Smoke Days</th>\n",
       "      <th>Diff in Mean PM25</th>\n",
       "      <th>Num Smoke Days</th>\n",
       "      <th>Avg. Annual Delta_PM25</th>\n",
       "      <th>Annual Mean Combined</th>\n",
       "      <th>Tot. Impact</th>\n",
       "      <th>Ave. Impact Per Day</th>\n",
       "    </tr>\n",
       "  </thead>\n",
       "  <tbody>\n",
       "    <tr>\n",
       "      <th>0</th>\n",
       "      <td>2006</td>\n",
       "      <td>9.962489</td>\n",
       "      <td>9.129669</td>\n",
       "      <td>0.832820</td>\n",
       "      <td>25.0</td>\n",
       "      <td>0.057042</td>\n",
       "      <td>9.186712</td>\n",
       "      <td>20.820488</td>\n",
       "      <td>0.057042</td>\n",
       "    </tr>\n",
       "    <tr>\n",
       "      <th>1</th>\n",
       "      <td>2007</td>\n",
       "      <td>11.532424</td>\n",
       "      <td>10.237317</td>\n",
       "      <td>1.295107</td>\n",
       "      <td>30.0</td>\n",
       "      <td>0.106447</td>\n",
       "      <td>10.343764</td>\n",
       "      <td>38.853217</td>\n",
       "      <td>0.106447</td>\n",
       "    </tr>\n",
       "    <tr>\n",
       "      <th>2</th>\n",
       "      <td>2008</td>\n",
       "      <td>13.020036</td>\n",
       "      <td>10.141664</td>\n",
       "      <td>2.878372</td>\n",
       "      <td>40.0</td>\n",
       "      <td>0.315438</td>\n",
       "      <td>10.456240</td>\n",
       "      <td>115.134885</td>\n",
       "      <td>0.315438</td>\n",
       "    </tr>\n",
       "    <tr>\n",
       "      <th>3</th>\n",
       "      <td>2009</td>\n",
       "      <td>8.738054</td>\n",
       "      <td>7.630536</td>\n",
       "      <td>1.107518</td>\n",
       "      <td>18.0</td>\n",
       "      <td>0.054617</td>\n",
       "      <td>7.685154</td>\n",
       "      <td>19.935323</td>\n",
       "      <td>0.054617</td>\n",
       "    </tr>\n",
       "    <tr>\n",
       "      <th>4</th>\n",
       "      <td>2010</td>\n",
       "      <td>6.578359</td>\n",
       "      <td>7.080457</td>\n",
       "      <td>-0.502098</td>\n",
       "      <td>17.0</td>\n",
       "      <td>-0.023385</td>\n",
       "      <td>7.057071</td>\n",
       "      <td>-8.535658</td>\n",
       "      <td>-0.023385</td>\n",
       "    </tr>\n",
       "  </tbody>\n",
       "</table>\n",
       "</div>"
      ],
      "text/plain": [
       "   Year  Mean PM25 Smoke Days  Mean PM25 Non-Smoke Days  Diff in Mean PM25  \\\n",
       "0  2006              9.962489                  9.129669           0.832820   \n",
       "1  2007             11.532424                 10.237317           1.295107   \n",
       "2  2008             13.020036                 10.141664           2.878372   \n",
       "3  2009              8.738054                  7.630536           1.107518   \n",
       "4  2010              6.578359                  7.080457          -0.502098   \n",
       "\n",
       "   Num Smoke Days  Avg. Annual Delta_PM25  Annual Mean Combined  Tot. Impact  \\\n",
       "0            25.0                0.057042              9.186712    20.820488   \n",
       "1            30.0                0.106447             10.343764    38.853217   \n",
       "2            40.0                0.315438             10.456240   115.134885   \n",
       "3            18.0                0.054617              7.685154    19.935323   \n",
       "4            17.0               -0.023385              7.057071    -8.535658   \n",
       "\n",
       "   Ave. Impact Per Day  \n",
       "0             0.057042  \n",
       "1             0.106447  \n",
       "2             0.315438  \n",
       "3             0.054617  \n",
       "4            -0.023385  "
      ]
     },
     "execution_count": 2,
     "metadata": {},
     "output_type": "execute_result"
    }
   ],
   "source": [
    "f = \"Data\\Annual Summary PM25 Data ODell.csv\"\n",
    "impact_df = pd.read_csv(f)\n",
    "impact_df[\"Tot. Impact\"] = impact_df[\"Diff in Mean PM25\"]*impact_df[\"Num Smoke Days\"]\n",
    "impact_df[\"Ave. Impact Per Day\"] = impact_df[\"Tot. Impact\"]/365 \n",
    "impact_df.head()\n"
   ]
  },
  {
   "cell_type": "code",
   "execution_count": 3,
   "id": "26b5b403",
   "metadata": {},
   "outputs": [
    {
     "data": {
      "text/plain": [
       "0.28"
      ]
     },
     "execution_count": 3,
     "metadata": {},
     "output_type": "execute_result"
    }
   ],
   "source": [
    "# Sanity check my average delta PM25 over the time period 2006-2018\n",
    "ave = impact_df[\"Ave. Impact Per Day\"].mean()  \n",
    "round(ave, 2)\n"
   ]
  },
  {
   "cell_type": "markdown",
   "id": "8924fe70",
   "metadata": {},
   "source": [
    "Delta_PM25 values look reasonable.  O'Dell et. al. found that the mean smoke related PM25 for Nebraska for 2006-2018 was between 0.14 and .41 (depending on which part of Nebraska) so my average of .28 is reasonable.  See O'Dell p. 6, Map in Figure 1(a). "
   ]
  },
  {
   "cell_type": "markdown",
   "id": "38d7ebf8",
   "metadata": {},
   "source": [
    "Now load US population data "
   ]
  },
  {
   "cell_type": "code",
   "execution_count": 4,
   "id": "9bec05ec",
   "metadata": {},
   "outputs": [
    {
     "data": {
      "text/html": [
       "<div>\n",
       "<style scoped>\n",
       "    .dataframe tbody tr th:only-of-type {\n",
       "        vertical-align: middle;\n",
       "    }\n",
       "\n",
       "    .dataframe tbody tr th {\n",
       "        vertical-align: top;\n",
       "    }\n",
       "\n",
       "    .dataframe thead th {\n",
       "        text-align: right;\n",
       "    }\n",
       "</style>\n",
       "<table border=\"1\" class=\"dataframe\">\n",
       "  <thead>\n",
       "    <tr style=\"text-align: right;\">\n",
       "      <th></th>\n",
       "      <th>Year</th>\n",
       "      <th>US POP</th>\n",
       "    </tr>\n",
       "  </thead>\n",
       "  <tbody>\n",
       "    <tr>\n",
       "      <th>0</th>\n",
       "      <td>2000</td>\n",
       "      <td>282162411</td>\n",
       "    </tr>\n",
       "    <tr>\n",
       "      <th>1</th>\n",
       "      <td>2001</td>\n",
       "      <td>284968955</td>\n",
       "    </tr>\n",
       "    <tr>\n",
       "      <th>2</th>\n",
       "      <td>2002</td>\n",
       "      <td>287625193</td>\n",
       "    </tr>\n",
       "    <tr>\n",
       "      <th>3</th>\n",
       "      <td>2003</td>\n",
       "      <td>290107933</td>\n",
       "    </tr>\n",
       "    <tr>\n",
       "      <th>4</th>\n",
       "      <td>2004</td>\n",
       "      <td>292805298</td>\n",
       "    </tr>\n",
       "  </tbody>\n",
       "</table>\n",
       "</div>"
      ],
      "text/plain": [
       "   Year     US POP\n",
       "0  2000  282162411\n",
       "1  2001  284968955\n",
       "2  2002  287625193\n",
       "3  2003  290107933\n",
       "4  2004  292805298"
      ]
     },
     "execution_count": 4,
     "metadata": {},
     "output_type": "execute_result"
    }
   ],
   "source": [
    "f = \"Data/us_pop_2000_2020.csv\"\n",
    "US_pop = pd.read_csv(f)\n",
    "US_pop.head()"
   ]
  },
  {
   "cell_type": "markdown",
   "id": "5f1bd175",
   "metadata": {},
   "source": [
    "Now load Kearney Population"
   ]
  },
  {
   "cell_type": "code",
   "execution_count": 5,
   "id": "fe128a9c",
   "metadata": {},
   "outputs": [
    {
     "data": {
      "text/html": [
       "<div>\n",
       "<style scoped>\n",
       "    .dataframe tbody tr th:only-of-type {\n",
       "        vertical-align: middle;\n",
       "    }\n",
       "\n",
       "    .dataframe tbody tr th {\n",
       "        vertical-align: top;\n",
       "    }\n",
       "\n",
       "    .dataframe thead th {\n",
       "        text-align: right;\n",
       "    }\n",
       "</style>\n",
       "<table border=\"1\" class=\"dataframe\">\n",
       "  <thead>\n",
       "    <tr style=\"text-align: right;\">\n",
       "      <th></th>\n",
       "      <th>Year</th>\n",
       "      <th>Pop</th>\n",
       "    </tr>\n",
       "  </thead>\n",
       "  <tbody>\n",
       "    <tr>\n",
       "      <th>0</th>\n",
       "      <td>2000</td>\n",
       "      <td>27431</td>\n",
       "    </tr>\n",
       "    <tr>\n",
       "      <th>1</th>\n",
       "      <td>2001</td>\n",
       "      <td>27749</td>\n",
       "    </tr>\n",
       "    <tr>\n",
       "      <th>2</th>\n",
       "      <td>2002</td>\n",
       "      <td>28072</td>\n",
       "    </tr>\n",
       "    <tr>\n",
       "      <th>3</th>\n",
       "      <td>2003</td>\n",
       "      <td>28397</td>\n",
       "    </tr>\n",
       "    <tr>\n",
       "      <th>4</th>\n",
       "      <td>2004</td>\n",
       "      <td>28727</td>\n",
       "    </tr>\n",
       "  </tbody>\n",
       "</table>\n",
       "</div>"
      ],
      "text/plain": [
       "   Year    Pop\n",
       "0  2000  27431\n",
       "1  2001  27749\n",
       "2  2002  28072\n",
       "3  2003  28397\n",
       "4  2004  28727"
      ]
     },
     "execution_count": 5,
     "metadata": {},
     "output_type": "execute_result"
    }
   ],
   "source": [
    "f = \"Data/Kearney_Pop.csv\"\n",
    "Kearney_pop =pd.read_csv(f)\n",
    "Kearney_pop.head()"
   ]
  },
  {
   "cell_type": "markdown",
   "id": "a1c555fa",
   "metadata": {},
   "source": [
    "Now load and display the HIA contants"
   ]
  },
  {
   "cell_type": "code",
   "execution_count": 6,
   "id": "ceb86c0e",
   "metadata": {},
   "outputs": [
    {
     "data": {
      "text/html": [
       "<div>\n",
       "<style scoped>\n",
       "    .dataframe tbody tr th:only-of-type {\n",
       "        vertical-align: middle;\n",
       "    }\n",
       "\n",
       "    .dataframe tbody tr th {\n",
       "        vertical-align: top;\n",
       "    }\n",
       "\n",
       "    .dataframe thead th {\n",
       "        text-align: right;\n",
       "    }\n",
       "</style>\n",
       "<table border=\"1\" class=\"dataframe\">\n",
       "  <thead>\n",
       "    <tr style=\"text-align: right;\">\n",
       "      <th></th>\n",
       "      <th>Event</th>\n",
       "      <th>Baseline</th>\n",
       "      <th>OR</th>\n",
       "      <th>OR_LOWER</th>\n",
       "      <th>OR_UPPER</th>\n",
       "    </tr>\n",
       "  </thead>\n",
       "  <tbody>\n",
       "    <tr>\n",
       "      <th>0</th>\n",
       "      <td>ER</td>\n",
       "      <td>0.006257</td>\n",
       "      <td>1.07</td>\n",
       "      <td>1.03</td>\n",
       "      <td>1.11</td>\n",
       "    </tr>\n",
       "    <tr>\n",
       "      <th>1</th>\n",
       "      <td>Admit</td>\n",
       "      <td>0.001299</td>\n",
       "      <td>1.08</td>\n",
       "      <td>1.03</td>\n",
       "      <td>1.14</td>\n",
       "    </tr>\n",
       "    <tr>\n",
       "      <th>2</th>\n",
       "      <td>Mortality</td>\n",
       "      <td>0.007329</td>\n",
       "      <td>1.06</td>\n",
       "      <td>1.04</td>\n",
       "      <td>1.08</td>\n",
       "    </tr>\n",
       "  </tbody>\n",
       "</table>\n",
       "</div>"
      ],
      "text/plain": [
       "       Event  Baseline    OR  OR_LOWER  OR_UPPER\n",
       "0         ER  0.006257  1.07      1.03      1.11\n",
       "1      Admit  0.001299  1.08      1.03      1.14\n",
       "2  Mortality  0.007329  1.06      1.04      1.08"
      ]
     },
     "execution_count": 6,
     "metadata": {},
     "output_type": "execute_result"
    }
   ],
   "source": [
    "f = \"Data/HIA_Constants_Raw/HIA_Constants.xlsx\"\n",
    "HIA_CONSTANTS =pd.read_excel(f)\n",
    "HIA_CONSTANTS.head()"
   ]
  },
  {
   "cell_type": "markdown",
   "id": "25fd1b95",
   "metadata": {},
   "source": [
    "Also load the daily PM2.5 data, which we'll use for sensitivity analysis"
   ]
  },
  {
   "cell_type": "code",
   "execution_count": 7,
   "id": "a1d1707d",
   "metadata": {},
   "outputs": [],
   "source": [
    "# Daily data \n",
    "f = \"Data\\Odell_Smoke.csv\"\n",
    "daily_pm25 = pd.read_csv(f)\n",
    "daily_pm25[\"Daily_Smoke_Diff\"]=(daily_pm25[\"PM25\"]-daily_pm25[\"Background_PM25\"])*daily_pm25[\"HMS_Smoke\"]\n",
    "#daily_pm25.head()"
   ]
  },
  {
   "cell_type": "markdown",
   "id": "217eb0eb",
   "metadata": {},
   "source": [
    "# Step 2: Set some constants for use in the calculations below"
   ]
  },
  {
   "cell_type": "code",
   "execution_count": 8,
   "id": "00825b21",
   "metadata": {},
   "outputs": [],
   "source": [
    "# Population Statistics \n",
    "#US\n",
    "US_POP_2009 = float(US_pop[US_pop[\"Year\"]==2009][\"US POP\"])\n",
    "US_POP_2018 = float(US_pop[US_pop[\"Year\"]==2018][\"US POP\"])\n",
    "US_POP_2020 = float(US_pop[US_pop[\"Year\"]==2020][\"US POP\"])\n",
    "\n",
    "KEARNY_POP_2020 = 33867  \n",
    "NEBRASKA_POP_2020 =  1961504\n",
    "\n",
    "K_US_RATIO = KEARNY_POP_2020/US_POP_2020\n",
    "#print(round(K_US_RATIO*1000, 2))\n",
    "\n",
    "\n",
    "# Set_Betas From OR \n",
    "col = HIA_CONSTANTS[\"OR\"] \n",
    "HIA_CONSTANTS[\"Beta\"] = np.log(col)/10\n",
    "col = HIA_CONSTANTS[\"OR_LOWER\"] \n",
    "HIA_CONSTANTS[\"Beta_CI_Lower\"] =  np.log(col)/10\n",
    "col = HIA_CONSTANTS[\"OR_UPPER\"] \n",
    "HIA_CONSTANTS[\"Beta_CI_Upper\"] =  np.log(col)/10"
   ]
  },
  {
   "cell_type": "markdown",
   "id": "3dac51cd",
   "metadata": {},
   "source": [
    "# Step 3 Define HIA Functions - Annual Calc Method  "
   ]
  },
  {
   "cell_type": "code",
   "execution_count": 9,
   "id": "f5dd5a55",
   "metadata": {},
   "outputs": [],
   "source": [
    "# Functions to calculate increased ER visist, hospital admissions, or mortality from fire pollution  \n",
    "# GENERAL FORM OF EQUATION = Population*(Baseline)*(1-exp(-ϐ*ΔPM2.5)\n",
    "# ATTRIBUTION NOTE: Methods and code adapated from O'Dell et. al., 2019 \n",
    "\n",
    "def calc_annual_impact(pop, event, delta_PM25, take_max = False):\n",
    "    if take_max:\n",
    "        delta_PM25 = max(0, delta_PM25)\n",
    "    baseline = HIA_CONSTANTS[HIA_CONSTANTS[\"Event\"] == event][\"Baseline\"]\n",
    "    beta = HIA_CONSTANTS[HIA_CONSTANTS[\"Event\"] == event][\"Beta\"]\n",
    "    outcome = float(pop*baseline*(1-np.exp(-beta*delta_PM25)))\n",
    "    beta_CI_low = HIA_CONSTANTS[HIA_CONSTANTS[\"Event\"] == event][\"Beta_CI_Lower\"]\n",
    "    outcome_CI_low = float(pop*baseline*(1-np.exp(-beta_CI_low*delta_PM25)))\n",
    "    beta_CI_high = HIA_CONSTANTS[HIA_CONSTANTS[\"Event\"] == event][\"Beta_CI_Upper\"]\n",
    "    outcome_CI_high = float(pop*baseline*(1-np.exp(-beta_CI_high*delta_PM25)))\n",
    "    return (outcome, outcome_CI_low, outcome_CI_high)"
   ]
  },
  {
   "cell_type": "code",
   "execution_count": 10,
   "id": "b1c2d487",
   "metadata": {},
   "outputs": [
    {
     "name": "stdout",
     "output_type": "stream",
     "text": [
      "ER Range_1428_to_10076\n",
      "Admit Range_337_to_2379\n",
      "Mortality Range_1441_to_10168\n"
     ]
    }
   ],
   "source": [
    "# Sanity Check \n",
    "# Does my function replicate (in the ballpark) of the findings for all US \n",
    "# from O'Dell and Ford papers \n",
    "\n",
    "# All-US Delta_PM\n",
    "delta_PM25_US_2018  = .73 # 2018 pop-weighted mean annual fire related PM2.5, highest year (O'Dell p.6)\n",
    "delta_PM25_US_2009 = .11 # 2009 pop-weighted mean annual fire related PM2.5, lowest year (O'Dell p.6)\n",
    "\n",
    "# US ED_Visits Caused by smoke pollution \n",
    "er_2018 = calc_annual_impact(US_POP_2018, \"ER\", delta_PM25_US_2018)[0]\n",
    "er_2009 = calc_annual_impact(US_POP_2009, \"ER\", delta_PM25_US_2009)[0]\n",
    "admit_2018 = calc_annual_impact(US_POP_2018, \"Admit\", delta_PM25_US_2018)[0]\n",
    "admit_2009 = calc_annual_impact(US_POP_2009, \"Admit\", delta_PM25_US_2009)[0]\n",
    "mortality_2018 = calc_annual_impact(US_POP_2018, \"Mortality\", delta_PM25_US_2018)[0]\n",
    "mortality_2009 = calc_annual_impact(US_POP_2009, \"Mortality\", delta_PM25_US_2009)[0]\n",
    "\n",
    "print(f\"ER Range_{round(er_2009)}_to_{round(er_2018)}\")\n",
    "print(f\"Admit Range_{round(admit_2009)}_to_{round(admit_2018)}\")\n",
    "print(f\"Mortality Range_{round(mortality_2009)}_to_{round(mortality_2018)}\")\n",
    "                                    "
   ]
  },
  {
   "cell_type": "markdown",
   "id": "b9b934ac",
   "metadata": {},
   "source": [
    "ER and Admit\n",
    "Lowends for ER and Admit closely match O'Dell et al. findings (Table 1, p.8) but I get higher values for high end of range by factor of 1.5-2.  Possibly because I simplified to annual and response function is non-linear - however, as explained below, this should have a small impact for the range of data relevant in my study. Other possible explanations include (1) differences in population estimates used, and (2) that O'Dell calculated response for each 15x15 cell and not using a US average as I did above. Overall, my estimates appear generally in range with the O'Dell findings, although the potential for overestimating at the upper bounds should be noted.  \n",
    "\n",
    "Mortality \n",
    "Ford et.al. found mortality in the range of 7K - 28K for 2000, notably higher than my range of 1.4K to 10K, especially on the low end.  Ford et al. used simulated,rather than observed PM25 data.  O'Dell et. al, used the same PM25 concentration data as I do, but a slightly different excess mortality estimator.  They reported results in the range 4,800 - 7,800, similar to my range but narrower.  \n",
    " "
   ]
  },
  {
   "cell_type": "code",
   "execution_count": 11,
   "id": "9deb174b",
   "metadata": {},
   "outputs": [
    {
     "name": "stdout",
     "output_type": "stream",
     "text": [
      "5804.5 6300.0 -0.08536480316995435\n"
     ]
    }
   ],
   "source": [
    "# examine midpoint of my range for mortalit vs. midpoint of O'Dell Range \n",
    "# And 5 diff \n",
    "my_mort_mid = (1441+10168)/2\n",
    "ODell_mort_mid = (4800+7800)/2\n",
    "diff = (my_mort_mid-ODell_mort_mid)/my_mort_mid\n",
    "print(my_mort_mid, ODell_mort_mid, diff )"
   ]
  },
  {
   "cell_type": "code",
   "execution_count": 12,
   "id": "c507056b",
   "metadata": {},
   "outputs": [
    {
     "name": "stdout",
     "output_type": "stream",
     "text": [
      "ER\n",
      "10157.217652178428 4443.670665083336 15646.038792692547\n",
      "1428.0243356899969 624.0079463557554 2202.2102147159635\n",
      "\n",
      "Mortality\n",
      "10250.22488891471 6904.206432550708 13529.177316209321\n",
      "1440.6813687493443 969.8220202295549 1902.643190315991\n"
     ]
    }
   ],
   "source": [
    "# Let's also look at the 95% CI for the high and low years \n",
    "\n",
    "print(\"ER\")\n",
    "er_2018, er_2018_CI_low, er_2018_CI_high = calc_annual_impact(US_POP_2020, \"ER\", delta_PM25_US_2018)\n",
    "print(er_2018, er_2018_CI_low, er_2018_CI_high)\n",
    "er_2009, er_2009_CI_low, er_2009_CI_high = calc_annual_impact(US_POP_2009, \"ER\", delta_PM25_US_2009)\n",
    "print(er_2009, er_2009_CI_low, er_2009_CI_high)\n",
    "print(\"\")\n",
    "\n",
    "\n",
    "print(\"Mortality\")\n",
    "mortality_2018, mortality_2018_CI_low, mortality_2018_CI_high = calc_annual_impact(US_POP_2020, \"Mortality\", delta_PM25_US_2018)\n",
    "print(mortality_2018, mortality_2018_CI_low, mortality_2018_CI_high)\n",
    "mortality_2009, mortality_2009_CI_low, mortality_2009_CI_high = calc_annual_impact(US_POP_2009, \"Mortality\", delta_PM25_US_2009)\n",
    "print(mortality_2009, mortality_2009_CI_low, mortality_2009_CI_high)\n",
    "\n"
   ]
  },
  {
   "cell_type": "markdown",
   "id": "c378f13b",
   "metadata": {},
   "source": [
    "# Step 4: Examine Shape of HIA Functions"
   ]
  },
  {
   "cell_type": "code",
   "execution_count": 13,
   "id": "924dc9a8",
   "metadata": {},
   "outputs": [],
   "source": [
    "# Largest Beta * delta_PM25 in my range of data \n",
    "\n",
    "# Largest Beta \n",
    "largest_B =  max(HIA_CONSTANTS[\"Beta_CI_Upper\"])\n",
    "largest_delta_PM25 = .73\n",
    "largest = largest_B\n"
   ]
  },
  {
   "cell_type": "code",
   "execution_count": 14,
   "id": "8dd1fb4f",
   "metadata": {},
   "outputs": [
    {
     "data": {
      "text/plain": [
       "35"
      ]
     },
     "execution_count": 14,
     "metadata": {},
     "output_type": "execute_result"
    }
   ],
   "source": [
    "# largest PM2.5 reading if we looked at it on a daily basis \n",
    "largest_daily_pm25 = round(max(daily_pm25[\"PM25\"]))\n",
    "largest_daily_pm25\n"
   ]
  },
  {
   "cell_type": "code",
   "execution_count": 15,
   "id": "ab7aaa8e",
   "metadata": {},
   "outputs": [
    {
     "data": {
      "image/png": "[encoded data removed]",
      "text/plain": [
       "<Figure size 720x288 with 1 Axes>"
      ]
     },
     "metadata": {
      "needs_background": "light"
     },
     "output_type": "display_data"
    }
   ],
   "source": [
    "# When B*delta_PM25 is small, response function is mostly linear \n",
    "# Let's see how it looks with our largest combo of B*delta_PM25\n",
    "\n",
    "# Define the function\n",
    "def my_function(x):\n",
    "    return (1 - np.exp(-largest*x))\n",
    "\n",
    "# Generate x values from 0 to largest_daily_pm25 with a certain step size\n",
    "x_values = np.linspace(0, largest_daily_pm25, 100)\n",
    "\n",
    "# Calculate corresponding y values using the function\n",
    "y_values = my_function(x_values)\n",
    "\n",
    "# Plot the function\n",
    "plt.figure(figsize=(10, 4))\n",
    "plt.plot(x_values, y_values, label= \"1 - e^-beta*x\")\n",
    "plt.xlabel('PM2.5')\n",
    "plt.ylabel('Kernal of Impact Function')\n",
    "plt.legend()\n",
    "plt.grid(True)\n",
    "\n",
    "\n",
    "# Save the plot as a JPG file\n",
    "f_out = \"Visuals/Figure A1.jpg\"\n",
    "plt.savefig(f_out)\n",
    "plt.savefig(f_out, bbox_inches=\"tight\", pad_inches=0.1)\n",
    "\n",
    "# Add title and display \n",
    "t = \"Graph of the Function '1 - e^-beta*x'\"\n",
    "plt.title(t, fontsize = 20) \n",
    "plt.show(); \n",
    "\n",
    "\n"
   ]
  },
  {
   "cell_type": "markdown",
   "id": "57ea7b52",
   "metadata": {},
   "source": [
    "In the relevant ranges in the dataset, treating the response function as approximately linear is a reasonable simplification. "
   ]
  },
  {
   "cell_type": "code",
   "execution_count": 16,
   "id": "973bbbdf",
   "metadata": {},
   "outputs": [],
   "source": [
    "# Compare to when B is large "
   ]
  },
  {
   "cell_type": "code",
   "execution_count": 17,
   "id": "7aabd02d",
   "metadata": {},
   "outputs": [
    {
     "data": {
      "image/png": "[encoded data removed]",
      "text/plain": [
       "<Figure size 432x288 with 1 Axes>"
      ]
     },
     "metadata": {
      "needs_background": "light"
     },
     "output_type": "display_data"
    }
   ],
   "source": [
    "# Define the function\n",
    "def my_function(x):\n",
    "    return (1 - np.exp(-10*largest*x))\n",
    "\n",
    "# Generate x values from 0 to 2 with a certain step size\n",
    "x_values = np.linspace(0, largest_daily_pm25, 100)\n",
    "\n",
    "# Calculate corresponding y values using the function\n",
    "y_values = my_function(x_values)\n",
    "\n",
    "# Plot the function\n",
    "plt.plot(x_values, y_values, label= \"1 - e^-10*beta*x\")\n",
    "plt.title(\"Graph of the Function\")\n",
    "plt.xlabel('x')\n",
    "plt.ylabel('y')\n",
    "plt.legend()\n",
    "plt.grid(True)\n",
    "plt.show()"
   ]
  },
  {
   "cell_type": "markdown",
   "id": "c26f8167",
   "metadata": {},
   "source": [
    "When Beta*Delta_PM is higher, the response function becomes increasingly concave. In this case, assuming that increased PM2.5 levels are evenly distributed accross the year will tend to OVER predict impact (several small increases contribute more than one large increase). But the above graph uses a significantly higher value of beta than is relevant to my dataset.  "
   ]
  },
  {
   "cell_type": "markdown",
   "id": "d672c0b1",
   "metadata": {},
   "source": [
    "# Step 5: Calculate Historical Health Impact on Kearny from Fire Related PM25  "
   ]
  },
  {
   "cell_type": "code",
   "execution_count": 18,
   "id": "a7e01e50",
   "metadata": {},
   "outputs": [],
   "source": [
    "# given a df with two columns \"Year\" and \"Delta_PM25\"\n",
    "# return a dataframe with estimate and upper and lower CI for \n",
    "# mortality, ER visits, and Hospital Admits \n",
    "\n",
    "\n",
    "def calc_HIA_all_yrs(df):\n",
    "\n",
    "    yrs = df[\"Year\"]\n",
    "\n",
    "    ER_record =[]\n",
    "    ER_CI_lower_record = []\n",
    "    ER_CI_upper_record = []\n",
    "    Admit_record=[]\n",
    "    Admit_CI_lower_record = []\n",
    "    Admit_CI_upper_record = []\n",
    "    Mortality_record=[] \n",
    "    Mortality_CI_lower_record = []\n",
    "    Mortality_CI_upper_record = []\n",
    "\n",
    "    for year in yrs: \n",
    "        delta_pm25 = float(df[df[\"Year\"] == year][\"Ave. Impact Per Day\"])\n",
    "        pop = int(Kearney_pop[Kearney_pop[\"Year\"]==year][\"Pop\"])\n",
    "        ER, ER_CI_lower, ER_CI_upper = calc_annual_impact(pop, \"ER\", delta_pm25)\n",
    "        ER_record.append(ER)\n",
    "        ER_CI_lower_record.append(ER_CI_lower)\n",
    "        ER_CI_upper_record.append(ER_CI_upper)\n",
    "    \n",
    "        Admit, Admit_CI_lower, Admit_CI_upper = calc_annual_impact(pop, \"Admit\", delta_pm25)\n",
    "        Admit_record.append(Admit)\n",
    "        Admit_CI_lower_record.append(Admit_CI_lower)\n",
    "        Admit_CI_upper_record.append(Admit_CI_upper)\n",
    "    \n",
    "    \n",
    "        Mortality, Mortality_CI_lower, Mortality_CI_upper = calc_annual_impact(pop, \"Mortality\", delta_pm25)\n",
    "        Mortality_record.append(Mortality)\n",
    "        Mortality_CI_lower_record.append(Mortality_CI_lower)\n",
    "        Mortality_CI_upper_record.append(Mortality_CI_upper)\n",
    "      \n",
    "\n",
    "\n",
    "    summary_impacts = pd.DataFrame ({\n",
    "        'Year': yrs,\n",
    "        'Excess Asthma ER Visits': ER_record,\n",
    "        'ER Visits CI Lower': ER_CI_lower_record,\n",
    "        \"ER Visits CI Upper\": ER_CI_upper_record,\n",
    "        \"Excess Asthma Hospital Admits\": Admit_record,\n",
    "        \"Hospital CI Lower\": Admit_CI_lower_record,\n",
    "        \"Hospital CI Upper\": Admit_CI_upper_record,\n",
    "        \"Excess Mortality\": Mortality_record,\n",
    "        \"Mortality CI Lower\": Mortality_CI_lower_record,\n",
    "        \"Mortality CI Upper\": Mortality_CI_upper_record,\n",
    "    })\n",
    "\n",
    "    return(summary_impacts)\n",
    "    "
   ]
  },
  {
   "cell_type": "code",
   "execution_count": 19,
   "id": "4e6333d1",
   "metadata": {},
   "outputs": [
    {
     "data": {
      "text/html": [
       "<div>\n",
       "<style scoped>\n",
       "    .dataframe tbody tr th:only-of-type {\n",
       "        vertical-align: middle;\n",
       "    }\n",
       "\n",
       "    .dataframe tbody tr th {\n",
       "        vertical-align: top;\n",
       "    }\n",
       "\n",
       "    .dataframe thead th {\n",
       "        text-align: right;\n",
       "    }\n",
       "</style>\n",
       "<table border=\"1\" class=\"dataframe\">\n",
       "  <thead>\n",
       "    <tr style=\"text-align: right;\">\n",
       "      <th></th>\n",
       "      <th>Year</th>\n",
       "      <th>Excess Asthma ER Visits</th>\n",
       "      <th>ER Visits CI Lower</th>\n",
       "      <th>ER Visits CI Upper</th>\n",
       "      <th>Excess Asthma Hospital Admits</th>\n",
       "      <th>Hospital CI Lower</th>\n",
       "      <th>Hospital CI Upper</th>\n",
       "      <th>Excess Mortality</th>\n",
       "      <th>Mortality CI Lower</th>\n",
       "      <th>Mortality CI Upper</th>\n",
       "    </tr>\n",
       "  </thead>\n",
       "  <tbody>\n",
       "    <tr>\n",
       "      <th>0</th>\n",
       "      <td>2006</td>\n",
       "      <td>0.070978</td>\n",
       "      <td>0.031012</td>\n",
       "      <td>0.109468</td>\n",
       "      <td>0.016761</td>\n",
       "      <td>0.006438</td>\n",
       "      <td>0.028532</td>\n",
       "      <td>0.071605</td>\n",
       "      <td>0.048200</td>\n",
       "      <td>0.094570</td>\n",
       "    </tr>\n",
       "    <tr>\n",
       "      <th>1</th>\n",
       "      <td>2007</td>\n",
       "      <td>0.133966</td>\n",
       "      <td>0.058539</td>\n",
       "      <td>0.206595</td>\n",
       "      <td>0.031635</td>\n",
       "      <td>0.012153</td>\n",
       "      <td>0.053843</td>\n",
       "      <td>0.135153</td>\n",
       "      <td>0.090980</td>\n",
       "      <td>0.178491</td>\n",
       "    </tr>\n",
       "    <tr>\n",
       "      <th>2</th>\n",
       "      <td>2008</td>\n",
       "      <td>0.401306</td>\n",
       "      <td>0.175429</td>\n",
       "      <td>0.618636</td>\n",
       "      <td>0.094755</td>\n",
       "      <td>0.036420</td>\n",
       "      <td>0.161186</td>\n",
       "      <td>0.404902</td>\n",
       "      <td>0.272621</td>\n",
       "      <td>0.534633</td>\n",
       "    </tr>\n",
       "    <tr>\n",
       "      <th>3</th>\n",
       "      <td>2009</td>\n",
       "      <td>0.070356</td>\n",
       "      <td>0.030740</td>\n",
       "      <td>0.108509</td>\n",
       "      <td>0.016614</td>\n",
       "      <td>0.006382</td>\n",
       "      <td>0.028282</td>\n",
       "      <td>0.070977</td>\n",
       "      <td>0.047777</td>\n",
       "      <td>0.093741</td>\n",
       "    </tr>\n",
       "    <tr>\n",
       "      <th>4</th>\n",
       "      <td>2010</td>\n",
       "      <td>-0.030481</td>\n",
       "      <td>-0.013316</td>\n",
       "      <td>-0.047018</td>\n",
       "      <td>-0.007198</td>\n",
       "      <td>-0.002765</td>\n",
       "      <td>-0.012256</td>\n",
       "      <td>-0.030750</td>\n",
       "      <td>-0.020697</td>\n",
       "      <td>-0.040615</td>\n",
       "    </tr>\n",
       "  </tbody>\n",
       "</table>\n",
       "</div>"
      ],
      "text/plain": [
       "   Year  Excess Asthma ER Visits  ER Visits CI Lower  ER Visits CI Upper  \\\n",
       "0  2006                 0.070978            0.031012            0.109468   \n",
       "1  2007                 0.133966            0.058539            0.206595   \n",
       "2  2008                 0.401306            0.175429            0.618636   \n",
       "3  2009                 0.070356            0.030740            0.108509   \n",
       "4  2010                -0.030481           -0.013316           -0.047018   \n",
       "\n",
       "   Excess Asthma Hospital Admits  Hospital CI Lower  Hospital CI Upper  \\\n",
       "0                       0.016761           0.006438           0.028532   \n",
       "1                       0.031635           0.012153           0.053843   \n",
       "2                       0.094755           0.036420           0.161186   \n",
       "3                       0.016614           0.006382           0.028282   \n",
       "4                      -0.007198          -0.002765          -0.012256   \n",
       "\n",
       "   Excess Mortality  Mortality CI Lower  Mortality CI Upper  \n",
       "0          0.071605            0.048200            0.094570  \n",
       "1          0.135153            0.090980            0.178491  \n",
       "2          0.404902            0.272621            0.534633  \n",
       "3          0.070977            0.047777            0.093741  \n",
       "4         -0.030750           -0.020697           -0.040615  "
      ]
     },
     "execution_count": 19,
     "metadata": {},
     "output_type": "execute_result"
    }
   ],
   "source": [
    "historical_impacts = calc_HIA_all_yrs(impact_df)\n",
    "historical_impacts.head()"
   ]
  },
  {
   "cell_type": "code",
   "execution_count": 20,
   "id": "3ac61471",
   "metadata": {},
   "outputs": [],
   "source": [
    "# save historical results dataframe to file \n",
    "f_out = 'Data/historical_impacts.csv'\n",
    "historical_impacts.to_csv(f_out, index = False)"
   ]
  },
  {
   "cell_type": "code",
   "execution_count": 21,
   "id": "2638df04",
   "metadata": {},
   "outputs": [
    {
     "data": {
      "image/png": "[encoded data removed]",
      "text/plain": [
       "<Figure size 864x288 with 3 Axes>"
      ]
     },
     "metadata": {
      "needs_background": "light"
     },
     "output_type": "display_data"
    }
   ],
   "source": [
    "# Graph the annual impact results of each event, with CI \n",
    "\n",
    "\n",
    "\n",
    "# Create a 1x3 grid of subplots\n",
    "fig, axes = plt.subplots(1, 3, figsize = (12,4))\n",
    "\n",
    "#shorter name for the df for convenience \n",
    "df = historical_impacts\n",
    "\n",
    "# Set the titles for each of the three graphs \n",
    "t1 = \"Fire Related Asthma ER Visits\"\n",
    "t2 = \"Fire Related Asthma Hospital Admits\"\n",
    "t3 = \"Fire Related Premature Mortality\"\n",
    "titles = [t1, t2, t3]\n",
    "events = [\"Excess Asthma ER Visits\", \"Excess Asthma Hospital Admits\", \"Excess Mortality\"]\n",
    "events_lower = [\"ER Visits CI Lower\", \"Hospital CI Lower\", \"Mortality CI Lower\"]\n",
    "events_upper = [\"ER Visits CI Upper\", \"Hospital CI Upper\", \"Mortality CI Upper\"]\n",
    "\n",
    "\n",
    "for i in range(3): \n",
    "    event = events[i]\n",
    "    event_lower = events_lower[i] \n",
    "    event_upper = events_upper[i]\n",
    "    ax = axes[i]\n",
    "    t = titles[i]\n",
    "    x = df[\"Year\"]\n",
    "    y = df[event]\n",
    "    ax.plot(x, y)\n",
    "    ax.fill_between(df[\"Year\"], df[event_lower], df[event_upper], \\\n",
    "                     color='lightgray', label='95% Confidence Interval')\n",
    "    ax.set_title(t, fontsize = 12)\n",
    "    ax.set_ylim(0, 1.5)\n",
    "    ax.set_xticks([2006, 2008, 2010, 2012, 2014, 2016, 2018])\n",
    "    if i == 0:\n",
    "        ax.set_ylabel(\"Residents of Kearney\", fontsize = 14)\n",
    "     \n",
    "\n",
    "# Save the plot as a JPG file\n",
    "f_out = \"Visuals/Figure 8.jpg\"\n",
    "plt.savefig(f_out)\n",
    "plt.savefig(f_out, bbox_inches=\"tight\", pad_inches=0.1)\n",
    "\n",
    "#Display \n",
    "plt.show(); \n",
    "\n",
    "    \n",
    "\n",
    "\n"
   ]
  },
  {
   "cell_type": "raw",
   "id": "a8adaecd",
   "metadata": {},
   "source": [
    "# Now lets look at cumulative numbers for the whole period "
   ]
  },
  {
   "cell_type": "code",
   "execution_count": 22,
   "id": "2f466a2d",
   "metadata": {},
   "outputs": [
    {
     "name": "stdout",
     "output_type": "stream",
     "text": [
      "[3.32, 4.93, 6.51]\n"
     ]
    }
   ],
   "source": [
    "# Mortality Cumulative\n",
    "tot_excess_mortality = sum(historical_impacts[\"Excess Mortality\"])\n",
    "tot_excess_mortality_CI_lower = sum(historical_impacts[\"Mortality CI Lower\"])\n",
    "tot_excess_mortality_CI_upper = sum(historical_impacts[\"Mortality CI Upper\"])\n",
    "\n",
    "\n",
    "tot_mort_estimates = [tot_excess_mortality_CI_lower, tot_excess_mortality, tot_excess_mortality_CI_upper]\n",
    "rounded_list = [round(element, 2) for element in tot_mort_estimates]\n",
    "print(rounded_list)\n"
   ]
  },
  {
   "cell_type": "code",
   "execution_count": 23,
   "id": "8d3f7942",
   "metadata": {},
   "outputs": [
    {
     "name": "stdout",
     "output_type": "stream",
     "text": [
      "[2.14, 4.89, 7.53]\n"
     ]
    }
   ],
   "source": [
    "# ER Visits Cumulative\n",
    "\n",
    "tot_excess_ER = sum(historical_impacts[\"Excess Asthma ER Visits\"])\n",
    "tot_excess_ER_CI_lower = sum(historical_impacts[\"ER Visits CI Lower\"])\n",
    "tot_excess_ER_CI_upper = sum(historical_impacts[\"ER Visits CI Upper\"])\n",
    "\n",
    "\n",
    "tot_ER_estimates = [tot_excess_ER_CI_lower, tot_excess_ER, tot_excess_ER_CI_upper]\n",
    "rounded_list = [round(element, 2) for element in tot_ER_estimates]\n",
    "print(rounded_list)"
   ]
  },
  {
   "cell_type": "code",
   "execution_count": 24,
   "id": "5059dfa0",
   "metadata": {},
   "outputs": [
    {
     "name": "stdout",
     "output_type": "stream",
     "text": [
      "[0.44, 1.15, 1.96]\n"
     ]
    }
   ],
   "source": [
    "# Hospital Admits Cumulative\n",
    "\n",
    "tot_excess_Admits = sum(historical_impacts[\"Excess Asthma Hospital Admits\"])\n",
    "tot_excess_Admits_CI_lower = sum(historical_impacts[\"Hospital CI Lower\"])\n",
    "tot_excess_Admits_CI_upper = sum(historical_impacts[\"Hospital CI Upper\"])\n",
    "\n",
    "\n",
    "tot_Admits_estimates = [tot_excess_Admits_CI_lower, tot_excess_Admits, tot_excess_Admits_CI_upper]\n",
    "rounded_list = [round(element, 2) for element in tot_Admits_estimates]\n",
    "print(rounded_list)"
   ]
  },
  {
   "cell_type": "code",
   "execution_count": 25,
   "id": "fffa63c5",
   "metadata": {},
   "outputs": [
    {
     "data": {
      "image/png": "[encoded data removed]",
      "text/plain": [
       "<Figure size 720x288 with 1 Axes>"
      ]
     },
     "metadata": {
      "needs_background": "light"
     },
     "output_type": "display_data"
    }
   ],
   "source": [
    "# Graph Results\n",
    "# See Chat GPT Attribution at end of Notebook \n",
    "\n",
    "\n",
    "labs = [\"Excess Asthma ER Visits\", \n",
    "        \"Excess Asthma Hospital Admits\",\n",
    "        \"Excess Mortality\"] \n",
    "\n",
    "\n",
    "df = pd.DataFrame()\n",
    "df[\"Labels\"] = labs\n",
    "df[\"Estimates\"] = [tot_excess_ER, tot_excess_Admits, tot_excess_mortality] \n",
    "df[\"Lower CI\"] = [tot_excess_ER_CI_lower, tot_excess_Admits_CI_lower, tot_excess_mortality_CI_lower] \n",
    "df[\"Upper CI\"] = [tot_excess_ER_CI_upper, tot_excess_Admits_CI_upper, tot_excess_mortality_CI_upper] \n",
    "\n",
    "\n",
    "# Plotting\n",
    "fig, ax = plt.subplots(figsize=(10, 4))\n",
    "#plt.subplots_adjust(top=0.8, bottom=0.2)\n",
    "\n",
    "\n",
    "for i, label in enumerate(df[\"Labels\"]):\n",
    "    ax.scatter(df.loc[i, \"Estimates\"], label, color='red', marker='o', label=f'Estimate {label}')\n",
    "    ax.text(df.loc[i, \"Estimates\"], label, f'{df.loc[i, \"Estimates\"]:.1f}', ha='left', va='bottom', color='black', fontsize=12)\n",
    "    \n",
    "# Plot confidence interval as horizontal lines\n",
    "for i, label in enumerate(df[\"Labels\"]):\n",
    "    ax.plot([df.loc[i, \"Lower CI\"], df.loc[i, \"Upper CI\"]], [label, label], color='blue', \\\n",
    "            linestyle='-', linewidth=2, label=f'CI {label}')\n",
    "\n",
    "    \n",
    "# Customize the plot\n",
    "ax.set_xlabel(\"Residents of Kearney\", fontsize = 14)\n",
    "#ax.set_title(\"Cumulative Health Impact Estimates Due to Fire Pollution (2006-2018)\", fontsize =16)\n",
    "#ax.set_suptitle(\"(Estimates in Red, 95% Confidence Intervals in Blue)\", y=0.9, fontsize=14)\n",
    "ax.set_yticks(df[\"Labels\"])\n",
    "ax.set_yticklabels(df[\"Labels\"], fontsize=14)\n",
    "ax.margins(y=0.2)  # Set vertical margin\n",
    "\n",
    "\n",
    "# Save the plot as a JPG file\n",
    "f_out = \"Visuals/Figure 9.jpg\"\n",
    "plt.savefig(f_out)\n",
    "plt.savefig(f_out, bbox_inches=\"tight\", pad_inches=0.1)\n",
    "\n",
    "#Display \n",
    "plt.show(); \n",
    "\n"
   ]
  },
  {
   "cell_type": "markdown",
   "id": "e6f3f7c6",
   "metadata": {},
   "source": [
    "# Step 6 - Sensitivity Analysis (Daily versus Annual Calculation Methods)"
   ]
  },
  {
   "cell_type": "markdown",
   "id": "f0a9e26e",
   "metadata": {},
   "source": [
    "Define a function that calculates impacts based on daily changes in Delta PM2.5"
   ]
  },
  {
   "cell_type": "code",
   "execution_count": 26,
   "id": "26de8529",
   "metadata": {},
   "outputs": [],
   "source": [
    "# daily impact function that takes as inputs population, event, and DAILY change in PM25\n",
    "# and returns a tuple with the estimated health impact, lower value of the CI range, and upper value \n",
    "def calc_daily_impact(pop, event, delta_PM25):\n",
    "    baseline = HIA_CONSTANTS[HIA_CONSTANTS[\"Event\"] == event][\"Baseline\"]/365\n",
    "    beta = HIA_CONSTANTS[HIA_CONSTANTS[\"Event\"] == event][\"Beta\"]\n",
    "    outcome = float(pop*baseline*(1-np.exp(-beta*delta_PM25)))\n",
    "    beta_CI_low = HIA_CONSTANTS[HIA_CONSTANTS[\"Event\"] == event][\"Beta_CI_Lower\"]\n",
    "    outcome_CI_low = float(pop*baseline*(1-np.exp(-beta_CI_low*delta_PM25)))\n",
    "    beta_CI_high = HIA_CONSTANTS[HIA_CONSTANTS[\"Event\"] == event][\"Beta_CI_Upper\"]\n",
    "    outcome_CI_high = float(pop*baseline*(1-np.exp(-beta_CI_high*delta_PM25)))\n",
    "    return (outcome, outcome_CI_low, outcome_CI_high)"
   ]
  },
  {
   "cell_type": "markdown",
   "id": "2ea1d220",
   "metadata": {},
   "source": [
    "Now a function to calculate Annual impact by summing over daily values rather than using annual average "
   ]
  },
  {
   "cell_type": "code",
   "execution_count": 27,
   "id": "01cfc26d",
   "metadata": {},
   "outputs": [],
   "source": [
    "def calc_annual_smoke_impact_daily_method(pop, event, delta_smoke, take_max = False):\n",
    "    tot_outcome = 0 \n",
    "    for delta_smoke_day in delta_smoke:\n",
    "        if take_max:\n",
    "            delta_smoke_day = max(0, delta_smoke_day)\n",
    "        outcome = calc_daily_impact(pop, event, delta_smoke_day)[0]\n",
    "        tot_outcome += outcome\n",
    "    return tot_outcome "
   ]
  },
  {
   "cell_type": "markdown",
   "id": "c29adcc6",
   "metadata": {},
   "source": [
    "Look at how mortality estimates differ for a specific year using the two methods "
   ]
  },
  {
   "cell_type": "code",
   "execution_count": 28,
   "id": "b35f3efb",
   "metadata": {},
   "outputs": [
    {
     "name": "stdout",
     "output_type": "stream",
     "text": [
      "Using the average annaul method, estiamted mortality for_2018 is\n",
      "0.8727037221283382 0.5877607837524431 1.1519948280169436\n"
     ]
    }
   ],
   "source": [
    "# Doing it the old way, annual method\n",
    "year  = 2018\n",
    "df =impact_df\n",
    "delta_pm25 = float(df[df[\"Year\"] == year][\"Ave. Impact Per Day\"])\n",
    "pop = int(Kearney_pop[Kearney_pop[\"Year\"]==year][\"Pop\"])\n",
    "Mortality, Mortality_CI_lower, Mortality_CI_upper = calc_annual_impact(pop, \"Mortality\", delta_pm25)\n",
    "print(f\"Using the average annaul method, estiamted mortality for_{year} is\")\n",
    "print(Mortality, Mortality_CI_lower, Mortality_CI_upper)        "
   ]
  },
  {
   "cell_type": "code",
   "execution_count": 29,
   "id": "e8f595b7",
   "metadata": {},
   "outputs": [
    {
     "name": "stdout",
     "output_type": "stream",
     "text": [
      "0.8994833412331412\n"
     ]
    }
   ],
   "source": [
    "# Now using daily method \n",
    "year = 2018\n",
    "df = daily_pm25\n",
    "delta_pm25=(df[df[\"Year\"] == year][\"Daily_Smoke_Diff\"])\n",
    "pop = int(Kearney_pop[Kearney_pop[\"Year\"]==year][\"Pop\"])\n",
    "Mortality_daily = calc_annual_smoke_impact_daily_method(pop, \"Mortality\", delta_pm25)\n",
    "print(Mortality_daily)"
   ]
  },
  {
   "cell_type": "markdown",
   "id": "906d12a0",
   "metadata": {},
   "source": [
    "Results look close via two methods for 2018, now lets look at all year "
   ]
  },
  {
   "cell_type": "code",
   "execution_count": 30,
   "id": "a973e05b",
   "metadata": {},
   "outputs": [
    {
     "data": {
      "text/html": [
       "<div>\n",
       "<style scoped>\n",
       "    .dataframe tbody tr th:only-of-type {\n",
       "        vertical-align: middle;\n",
       "    }\n",
       "\n",
       "    .dataframe tbody tr th {\n",
       "        vertical-align: top;\n",
       "    }\n",
       "\n",
       "    .dataframe thead th {\n",
       "        text-align: right;\n",
       "    }\n",
       "</style>\n",
       "<table border=\"1\" class=\"dataframe\">\n",
       "  <thead>\n",
       "    <tr style=\"text-align: right;\">\n",
       "      <th></th>\n",
       "      <th>Year</th>\n",
       "      <th>Mortality_daily_method</th>\n",
       "      <th>Compare: Ann. Method</th>\n",
       "      <th>Overstate_Factor</th>\n",
       "    </tr>\n",
       "  </thead>\n",
       "  <tbody>\n",
       "    <tr>\n",
       "      <th>0</th>\n",
       "      <td>2006</td>\n",
       "      <td>-0.012454</td>\n",
       "      <td>0.071605</td>\n",
       "      <td>-5.749712</td>\n",
       "    </tr>\n",
       "    <tr>\n",
       "      <th>1</th>\n",
       "      <td>2007</td>\n",
       "      <td>0.083653</td>\n",
       "      <td>0.135153</td>\n",
       "      <td>1.615640</td>\n",
       "    </tr>\n",
       "    <tr>\n",
       "      <th>2</th>\n",
       "      <td>2008</td>\n",
       "      <td>0.213891</td>\n",
       "      <td>0.404902</td>\n",
       "      <td>1.893027</td>\n",
       "    </tr>\n",
       "    <tr>\n",
       "      <th>3</th>\n",
       "      <td>2009</td>\n",
       "      <td>0.056313</td>\n",
       "      <td>0.070977</td>\n",
       "      <td>1.260411</td>\n",
       "    </tr>\n",
       "    <tr>\n",
       "      <th>4</th>\n",
       "      <td>2010</td>\n",
       "      <td>0.040325</td>\n",
       "      <td>-0.030750</td>\n",
       "      <td>-0.762555</td>\n",
       "    </tr>\n",
       "  </tbody>\n",
       "</table>\n",
       "</div>"
      ],
      "text/plain": [
       "   Year  Mortality_daily_method  Compare: Ann. Method  Overstate_Factor\n",
       "0  2006               -0.012454              0.071605         -5.749712\n",
       "1  2007                0.083653              0.135153          1.615640\n",
       "2  2008                0.213891              0.404902          1.893027\n",
       "3  2009                0.056313              0.070977          1.260411\n",
       "4  2010                0.040325             -0.030750         -0.762555"
      ]
     },
     "execution_count": 30,
     "metadata": {},
     "output_type": "execute_result"
    }
   ],
   "source": [
    "# Calcl results all years using daily method \n",
    "Years = df[\"Year\"].drop_duplicates().tolist()\n",
    "Years_record = []\n",
    "Mortality_daily_meth_record =[]\n",
    "\n",
    "for yr in Years:\n",
    "    delta_pm25=(df[df[\"Year\"] == yr][\"Daily_Smoke_Diff\"])\n",
    "    pop = int(Kearney_pop[Kearney_pop[\"Year\"]==year][\"Pop\"])\n",
    "    Mortality_daily = calc_annual_smoke_impact_daily_method(pop, \"Mortality\", delta_pm25, take_max = False)\n",
    "    Years_record.append(yr)\n",
    "    Mortality_daily_meth_record.append(Mortality_daily)\n",
    "\n",
    "results_daily_method = pd.DataFrame({\n",
    "    \"Year\": Years_record,\n",
    "    \"Mortality_daily_method\": Mortality_daily_meth_record \n",
    "})    \n",
    "    \n",
    "# display results alongside annual to compare\n",
    "results_daily_method[\"Compare: Ann. Method\"] = historical_impacts[\"Excess Mortality\"]\n",
    "results_daily_method[\"Overstate_Factor\"] = results_daily_method[\"Compare: Ann. Method\"]/results_daily_method[\"Mortality_daily_method\"]  \n",
    "results_daily_method.head()\n",
    "    "
   ]
  },
  {
   "cell_type": "code",
   "execution_count": 31,
   "id": "42c2a1a3",
   "metadata": {},
   "outputs": [
    {
     "data": {
      "text/html": [
       "<div>\n",
       "<style scoped>\n",
       "    .dataframe tbody tr th:only-of-type {\n",
       "        vertical-align: middle;\n",
       "    }\n",
       "\n",
       "    .dataframe tbody tr th {\n",
       "        vertical-align: top;\n",
       "    }\n",
       "\n",
       "    .dataframe thead th {\n",
       "        text-align: right;\n",
       "    }\n",
       "</style>\n",
       "<table border=\"1\" class=\"dataframe\">\n",
       "  <thead>\n",
       "    <tr style=\"text-align: right;\">\n",
       "      <th></th>\n",
       "      <th>Year</th>\n",
       "      <th>Mortality_daily_method</th>\n",
       "      <th>Compare: Ann. Method</th>\n",
       "      <th>Overstate_Factor</th>\n",
       "      <th>Mortality_daily_drop</th>\n",
       "      <th>Overstate_Factor Drop</th>\n",
       "    </tr>\n",
       "  </thead>\n",
       "  <tbody>\n",
       "    <tr>\n",
       "      <th>0</th>\n",
       "      <td>2006</td>\n",
       "      <td>-0.012454</td>\n",
       "      <td>0.071605</td>\n",
       "      <td>-5.749712</td>\n",
       "      <td>0.114664</td>\n",
       "      <td>0.624478</td>\n",
       "    </tr>\n",
       "    <tr>\n",
       "      <th>1</th>\n",
       "      <td>2007</td>\n",
       "      <td>0.083653</td>\n",
       "      <td>0.135153</td>\n",
       "      <td>1.615640</td>\n",
       "      <td>0.210179</td>\n",
       "      <td>0.643038</td>\n",
       "    </tr>\n",
       "    <tr>\n",
       "      <th>2</th>\n",
       "      <td>2008</td>\n",
       "      <td>0.213891</td>\n",
       "      <td>0.404902</td>\n",
       "      <td>1.893027</td>\n",
       "      <td>0.383751</td>\n",
       "      <td>1.055116</td>\n",
       "    </tr>\n",
       "    <tr>\n",
       "      <th>3</th>\n",
       "      <td>2009</td>\n",
       "      <td>0.056313</td>\n",
       "      <td>0.070977</td>\n",
       "      <td>1.260411</td>\n",
       "      <td>0.131075</td>\n",
       "      <td>0.541501</td>\n",
       "    </tr>\n",
       "    <tr>\n",
       "      <th>4</th>\n",
       "      <td>2010</td>\n",
       "      <td>0.040325</td>\n",
       "      <td>-0.030750</td>\n",
       "      <td>-0.762555</td>\n",
       "      <td>0.066282</td>\n",
       "      <td>-0.463920</td>\n",
       "    </tr>\n",
       "    <tr>\n",
       "      <th>5</th>\n",
       "      <td>2011</td>\n",
       "      <td>0.278866</td>\n",
       "      <td>0.192396</td>\n",
       "      <td>0.689924</td>\n",
       "      <td>0.337340</td>\n",
       "      <td>0.570332</td>\n",
       "    </tr>\n",
       "    <tr>\n",
       "      <th>6</th>\n",
       "      <td>2012</td>\n",
       "      <td>0.627103</td>\n",
       "      <td>0.630874</td>\n",
       "      <td>1.006013</td>\n",
       "      <td>0.819270</td>\n",
       "      <td>0.770043</td>\n",
       "    </tr>\n",
       "    <tr>\n",
       "      <th>7</th>\n",
       "      <td>2013</td>\n",
       "      <td>0.795394</td>\n",
       "      <td>0.943356</td>\n",
       "      <td>1.186023</td>\n",
       "      <td>0.870730</td>\n",
       "      <td>1.083408</td>\n",
       "    </tr>\n",
       "    <tr>\n",
       "      <th>8</th>\n",
       "      <td>2014</td>\n",
       "      <td>0.274772</td>\n",
       "      <td>0.349324</td>\n",
       "      <td>1.271324</td>\n",
       "      <td>0.338056</td>\n",
       "      <td>1.033332</td>\n",
       "    </tr>\n",
       "    <tr>\n",
       "      <th>9</th>\n",
       "      <td>2015</td>\n",
       "      <td>0.495021</td>\n",
       "      <td>0.621869</td>\n",
       "      <td>1.256248</td>\n",
       "      <td>0.605349</td>\n",
       "      <td>1.027291</td>\n",
       "    </tr>\n",
       "    <tr>\n",
       "      <th>10</th>\n",
       "      <td>2016</td>\n",
       "      <td>0.300781</td>\n",
       "      <td>0.231107</td>\n",
       "      <td>0.768358</td>\n",
       "      <td>0.343555</td>\n",
       "      <td>0.672694</td>\n",
       "    </tr>\n",
       "    <tr>\n",
       "      <th>11</th>\n",
       "      <td>2017</td>\n",
       "      <td>0.210428</td>\n",
       "      <td>0.437608</td>\n",
       "      <td>2.079612</td>\n",
       "      <td>0.345783</td>\n",
       "      <td>1.265559</td>\n",
       "    </tr>\n",
       "    <tr>\n",
       "      <th>12</th>\n",
       "      <td>2018</td>\n",
       "      <td>0.899483</td>\n",
       "      <td>0.872704</td>\n",
       "      <td>0.970228</td>\n",
       "      <td>0.935075</td>\n",
       "      <td>0.933298</td>\n",
       "    </tr>\n",
       "  </tbody>\n",
       "</table>\n",
       "</div>"
      ],
      "text/plain": [
       "    Year  Mortality_daily_method  Compare: Ann. Method  Overstate_Factor  \\\n",
       "0   2006               -0.012454              0.071605         -5.749712   \n",
       "1   2007                0.083653              0.135153          1.615640   \n",
       "2   2008                0.213891              0.404902          1.893027   \n",
       "3   2009                0.056313              0.070977          1.260411   \n",
       "4   2010                0.040325             -0.030750         -0.762555   \n",
       "5   2011                0.278866              0.192396          0.689924   \n",
       "6   2012                0.627103              0.630874          1.006013   \n",
       "7   2013                0.795394              0.943356          1.186023   \n",
       "8   2014                0.274772              0.349324          1.271324   \n",
       "9   2015                0.495021              0.621869          1.256248   \n",
       "10  2016                0.300781              0.231107          0.768358   \n",
       "11  2017                0.210428              0.437608          2.079612   \n",
       "12  2018                0.899483              0.872704          0.970228   \n",
       "\n",
       "    Mortality_daily_drop  Overstate_Factor Drop  \n",
       "0               0.114664               0.624478  \n",
       "1               0.210179               0.643038  \n",
       "2               0.383751               1.055116  \n",
       "3               0.131075               0.541501  \n",
       "4               0.066282              -0.463920  \n",
       "5               0.337340               0.570332  \n",
       "6               0.819270               0.770043  \n",
       "7               0.870730               1.083408  \n",
       "8               0.338056               1.033332  \n",
       "9               0.605349               1.027291  \n",
       "10              0.343555               0.672694  \n",
       "11              0.345783               1.265559  \n",
       "12              0.935075               0.933298  "
      ]
     },
     "execution_count": 31,
     "metadata": {},
     "output_type": "execute_result"
    }
   ],
   "source": [
    "# Calcl results all years using daily method \n",
    "# But now treat any negative daily values as zero \n",
    "Years = df[\"Year\"].drop_duplicates().tolist()\n",
    "Years_record = []\n",
    "Mortality_daily_drop_neg_record =[]\n",
    "\n",
    "for yr in Years:\n",
    "    delta_pm25=(df[df[\"Year\"] == yr][\"Daily_Smoke_Diff\"])\n",
    "    pop = int(Kearney_pop[Kearney_pop[\"Year\"]==year][\"Pop\"])\n",
    "    Mortality_daily = calc_annual_smoke_impact_daily_method(pop, \"Mortality\", delta_pm25, take_max = True)\n",
    "    Years_record.append(yr)\n",
    "    Mortality_daily_drop_neg_record.append(Mortality_daily)\n",
    "\n",
    "results_daily_method[\"Mortality_daily_drop\"] = Mortality_daily_drop_neg_record\n",
    "results_daily_method[\"Overstate_Factor Drop\"] = results_daily_method[\"Compare: Ann. Method\"]/results_daily_method[\"Mortality_daily_drop\"]  \n",
    "\n",
    "# display results \n",
    "results_daily_method"
   ]
  },
  {
   "cell_type": "markdown",
   "id": "3641f7c9",
   "metadata": {},
   "source": [
    "Most years within a factor of 2, with anomoly in 2006 and 2010 likely becasue negative numbers are a bit hard to interpret "
   ]
  },
  {
   "cell_type": "code",
   "execution_count": 32,
   "id": "a0aedad6",
   "metadata": {},
   "outputs": [
    {
     "data": {
      "image/png": "[encoded data removed]",
      "text/plain": [
       "<Figure size 720x288 with 1 Axes>"
      ]
     },
     "metadata": {
      "needs_background": "light"
     },
     "output_type": "display_data"
    }
   ],
   "source": [
    "# graph results \n",
    "df = results_daily_method\n",
    "x = df[\"Year\"]\n",
    "y1  = df[\"Compare: Ann. Method\"]\n",
    "y2 = df[\"Mortality_daily_method\"]\n",
    "y3 = df[\"Mortality_daily_drop\"]\n",
    "\n",
    "plt.figure(figsize=(10, 4))\n",
    "plt.plot(x, y1, label = \"Annual Method\")\n",
    "plt.plot(x, y2, label = \"Daily Method, All Fire PM2.5 Values Retained\")\n",
    "plt.plot(x, y3, label = \"Daily Method, Neg. Fire PM2.5 Values Dropped\")\n",
    "plt.ylabel(\"Residents of Kearney\", fontsize = 16)\n",
    "plt.legend(fontsize = 10)\n",
    "plt.tick_params(axis='y', labelsize=14)\n",
    "plt.tick_params(axis='x', labelsize=14)\n",
    "\n",
    "\n",
    "# Save the plot as a JPG file\n",
    "f_out = \"Visuals/Figure A2.jpg\"\n",
    "plt.savefig(f_out)\n",
    "plt.savefig(f_out, bbox_inches=\"tight\", pad_inches=0.1)\n",
    "\n",
    "#Add Title and Display \n",
    "plt.title('Estimate of Premature Deaths from Fire Pollution, Kearny, By Calculation Method')\n",
    "plt.show(); \n",
    "\n",
    "\n"
   ]
  },
  {
   "cell_type": "markdown",
   "id": "c9a3f331",
   "metadata": {},
   "source": [
    "Now let's compare the cumulative for the period"
   ]
  },
  {
   "cell_type": "code",
   "execution_count": 33,
   "id": "4c428382",
   "metadata": {},
   "outputs": [
    {
     "name": "stdout",
     "output_type": "stream",
     "text": [
      "Using Daily method, cumulative mortality for period was_4.263575904060747\n",
      "Using Daily method, but treating neg. numbers as zero, cumulative mortality for period was_5.501108153983309\n",
      "Using Annual method, cumulative mortality for period was_4.931125500438532\n"
     ]
    }
   ],
   "source": [
    "daily_method_cum_estimate = sum(results_daily_method[\"Mortality_daily_method\"])\n",
    "daily_method_drop_cum_estimate = sum(results_daily_method[\"Mortality_daily_drop\"])\n",
    "annual_method_cum_estimate = sum(results_daily_method[\"Compare: Ann. Method\"])\n",
    "\n",
    "\n",
    "print(f\"Using Daily method, cumulative mortality for period was_{daily_method_cum_estimate}\")\n",
    "print(f\"Using Daily method, but treating neg. numbers as zero, cumulative mortality for period was_{daily_method_drop_cum_estimate}\")\n",
    "print(f\"Using Annual method, cumulative mortality for period was_{annual_method_cum_estimate}\")\n"
   ]
  },
  {
   "cell_type": "code",
   "execution_count": 34,
   "id": "b43ab55d",
   "metadata": {},
   "outputs": [
    {
     "data": {
      "text/plain": [
       "-0.13537469211003028"
      ]
     },
     "execution_count": 34,
     "metadata": {},
     "output_type": "execute_result"
    }
   ],
   "source": [
    "# percent diff daily_method to annual \n",
    "daily_method_cum_estimate/annual_method_cum_estimate - 1"
   ]
  },
  {
   "cell_type": "code",
   "execution_count": 35,
   "id": "eb513ca5",
   "metadata": {},
   "outputs": [
    {
     "data": {
      "text/plain": [
       "0.1155887542294527"
      ]
     },
     "execution_count": 35,
     "metadata": {},
     "output_type": "execute_result"
    }
   ],
   "source": [
    "# percent diff daily_method_drop to annual \n",
    "daily_method_drop_cum_estimate/annual_method_cum_estimate -1"
   ]
  },
  {
   "cell_type": "markdown",
   "id": "7435f05e",
   "metadata": {},
   "source": [
    "# Step 7 Mortality Estimates In Context (Using Annual Methods)"
   ]
  },
  {
   "cell_type": "markdown",
   "id": "e147524a",
   "metadata": {},
   "source": [
    "Load in Dataframe of cumulative mortality 2006-2018 from other causes "
   ]
  },
  {
   "cell_type": "code",
   "execution_count": 36,
   "id": "1966225b",
   "metadata": {},
   "outputs": [
    {
     "data": {
      "text/html": [
       "<div>\n",
       "<style scoped>\n",
       "    .dataframe tbody tr th:only-of-type {\n",
       "        vertical-align: middle;\n",
       "    }\n",
       "\n",
       "    .dataframe tbody tr th {\n",
       "        vertical-align: top;\n",
       "    }\n",
       "\n",
       "    .dataframe thead th {\n",
       "        text-align: right;\n",
       "    }\n",
       "</style>\n",
       "<table border=\"1\" class=\"dataframe\">\n",
       "  <thead>\n",
       "    <tr style=\"text-align: right;\">\n",
       "      <th></th>\n",
       "      <th>Cause</th>\n",
       "      <th>Deaths</th>\n",
       "    </tr>\n",
       "  </thead>\n",
       "  <tbody>\n",
       "    <tr>\n",
       "      <th>0</th>\n",
       "      <td>Fire Arms</td>\n",
       "      <td>35.727921</td>\n",
       "    </tr>\n",
       "    <tr>\n",
       "      <th>1</th>\n",
       "      <td>Traffic Fatalities</td>\n",
       "      <td>49.905394</td>\n",
       "    </tr>\n",
       "    <tr>\n",
       "      <th>2</th>\n",
       "      <td>Heart Disease</td>\n",
       "      <td>763.791978</td>\n",
       "    </tr>\n",
       "    <tr>\n",
       "      <th>3</th>\n",
       "      <td>Homocide</td>\n",
       "      <td>12.675315</td>\n",
       "    </tr>\n",
       "  </tbody>\n",
       "</table>\n",
       "</div>"
      ],
      "text/plain": [
       "                Cause      Deaths\n",
       "0           Fire Arms   35.727921\n",
       "1  Traffic Fatalities   49.905394\n",
       "2       Heart Disease  763.791978\n",
       "3            Homocide   12.675315"
      ]
     },
     "execution_count": 36,
     "metadata": {},
     "output_type": "execute_result"
    }
   ],
   "source": [
    "f = \"Data/Other_Cause_Mortality.csv\"\n",
    "other_mort = pd.read_csv(f)\n",
    "other_mort"
   ]
  },
  {
   "cell_type": "code",
   "execution_count": 37,
   "id": "9a694bf2",
   "metadata": {},
   "outputs": [
    {
     "data": {
      "text/html": [
       "<div>\n",
       "<style scoped>\n",
       "    .dataframe tbody tr th:only-of-type {\n",
       "        vertical-align: middle;\n",
       "    }\n",
       "\n",
       "    .dataframe tbody tr th {\n",
       "        vertical-align: top;\n",
       "    }\n",
       "\n",
       "    .dataframe thead th {\n",
       "        text-align: right;\n",
       "    }\n",
       "</style>\n",
       "<table border=\"1\" class=\"dataframe\">\n",
       "  <thead>\n",
       "    <tr style=\"text-align: right;\">\n",
       "      <th></th>\n",
       "      <th>Cause</th>\n",
       "      <th>Deaths</th>\n",
       "    </tr>\n",
       "  </thead>\n",
       "  <tbody>\n",
       "    <tr>\n",
       "      <th>0</th>\n",
       "      <td>Fire Arms</td>\n",
       "      <td>35.727921</td>\n",
       "    </tr>\n",
       "    <tr>\n",
       "      <th>1</th>\n",
       "      <td>Traffic Fatalities</td>\n",
       "      <td>49.905394</td>\n",
       "    </tr>\n",
       "    <tr>\n",
       "      <th>2</th>\n",
       "      <td>Heart Disease</td>\n",
       "      <td>763.791978</td>\n",
       "    </tr>\n",
       "    <tr>\n",
       "      <th>3</th>\n",
       "      <td>Homocide</td>\n",
       "      <td>12.675315</td>\n",
       "    </tr>\n",
       "    <tr>\n",
       "      <th>4</th>\n",
       "      <td>Smoke Pollution</td>\n",
       "      <td>4.931126</td>\n",
       "    </tr>\n",
       "  </tbody>\n",
       "</table>\n",
       "</div>"
      ],
      "text/plain": [
       "                Cause      Deaths\n",
       "0           Fire Arms   35.727921\n",
       "1  Traffic Fatalities   49.905394\n",
       "2       Heart Disease  763.791978\n",
       "3            Homocide   12.675315\n",
       "4     Smoke Pollution    4.931126"
      ]
     },
     "execution_count": 37,
     "metadata": {},
     "output_type": "execute_result"
    }
   ],
   "source": [
    "# Add the smoke pollution to the mortality dataframe \n",
    "\n",
    "new_row = pd.DataFrame({\n",
    "    'Cause': [\"Smoke Pollution\"],\n",
    "    \"Deaths\": [tot_excess_mortality]\n",
    "}, index=[4])\n",
    "\n",
    "all_mort = pd.concat([other_mort, new_row], axis=0)\n",
    "all_mort \n"
   ]
  },
  {
   "cell_type": "code",
   "execution_count": 38,
   "id": "3a94d3f6",
   "metadata": {},
   "outputs": [
    {
     "data": {
      "image/png": "[encoded data removed]",
      "text/plain": [
       "<Figure size 720x432 with 1 Axes>"
      ]
     },
     "metadata": {
      "needs_background": "light"
     },
     "output_type": "display_data"
    }
   ],
   "source": [
    "# graph mortalities in a bar graph \n",
    "# Please see chat GPT attribution note at end of notebook \n",
    "\n",
    "\n",
    "\n",
    "all_mort_sorted = all_mort.sort_values(by='Deaths', ascending=True)\n",
    "\n",
    "# Set the color for each bar based on the 'Cause' column\n",
    "colors = ['orange' if cause == 'Smoke Pollution' else 'blue' for cause in all_mort_sorted['Cause']]\n",
    "\n",
    "# Create the horizontal bar graph\n",
    "plt.figure(figsize=(10, 6))\n",
    "plt.barh(all_mort_sorted['Cause'], all_mort_sorted['Deaths'], color=colors)\n",
    "\n",
    "# Add labels with rounded deaths to the right of the bars\n",
    "for i, value in enumerate(all_mort_sorted['Deaths']):\n",
    "    plt.text(value, i, str(round(value)), va='center', fontsize = 18)\n",
    "\n",
    "# Set labels and title\n",
    "plt.xlabel('Premature Deaths, Kearney Residents', fontsize = 18)\n",
    "plt.tick_params(axis='y', labelsize=16)\n",
    "\n",
    "# Set x-axis limit to extend it to 850\n",
    "plt.xlim(0, 850)\n",
    "\n",
    "\n",
    "\n",
    "# Save the plot as a JPG file\n",
    "f_out = \"Visuals/Figure 10.jpg\"\n",
    "plt.savefig(f_out)\n",
    "plt.savefig(f_out, bbox_inches=\"tight\", pad_inches=0.1)\n",
    "\n",
    "#Add Title and Display \n",
    "plt.title('Estimated Cumulative Deaths by Cause 2006-2018, Kearney', fontsize = 20)\n",
    "plt.show(); \n",
    "\n",
    "\n",
    "\n",
    "\n",
    "\n"
   ]
  },
  {
   "cell_type": "markdown",
   "id": "17fbbdd0",
   "metadata": {},
   "source": [
    "# CHAT GPT ATTRIBUTION \n",
    "\n",
    "The following function(s) or codeblock(s) contained in this notebook were written with assistance from Chat GPT available at: https://chat.openai.com/. In some cases, code suggested by Chat GPT was then further modified by the Notebook author, Sue Boyd.\n",
    "\n",
    "***\n",
    "For assistance writing the code block \"# Graph Results\", chat GPT was given the following prompts: \n",
    "\n",
    "\"I have a dataframe with four columns: \"Labels\", \"Estimates\", \"Lower CI\" and \"Upper CI\".  For each value in \"Labels\" I want to graph the estimate as a point and the range of the confidence interval (from lower CI to upper CI) as a line.   Write this code\"\n",
    "\n",
    "AND\n",
    "\n",
    "\"Update the code to label each point estimate with its value, rounded to two decimal places\"\n",
    "\n",
    "AND\n",
    "\n",
    "\"Update the graph so that the bars or horizontal instead of vertical.\"\n",
    "\n",
    "AND\n",
    "\n",
    "\"Keep it horizontal like that but instead of the estimate being a bar, keep it as a point.\"\n",
    "\n",
    "AND\n",
    "\n",
    "\"Update the code so that the text labels appear below the scatter dots and confidence interval lines, not directly on them.\"\n",
    "\n",
    "AND\n",
    "\n",
    "\"Move the data values closer together vertically and farther away from the bottom and top edges of the graph\n",
    "\n",
    "***\n",
    "For assistance in writing the code block \"# graph mortalities in a bar graph\", Chat GPT was given the following prompt: \n",
    "\n",
    "\"I have a dataframe called \"all_mort\" with columns \"Cause\" containing text and \"Deaths\" containing a number.  Create a horizota bar graph of Deaths by cause in descening order.   Add labels with the deaths, rounded to the nearest whole number, to the right of the bars. Label the x axis \"Premature Deaths, Kearney Residents\".  Make the bars blue except that the bar for the cause called \"Smoke Pollution\" should be orange. Thanks.\"\n"
   ]
  }
 ],
 "metadata": {
  "kernelspec": {
   "display_name": "Python 3 (ipykernel)",
   "language": "python",
   "name": "python3"
  },
  "language_info": {
   "codemirror_mode": {
    "name": "ipython",
    "version": 3
   },
   "file_extension": ".py",
   "mimetype": "text/x-python",
   "name": "python",
   "nbconvert_exporter": "python",
   "pygments_lexer": "ipython3",
   "version": "3.8.16"
  }
 },
 "nbformat": 4,
 "nbformat_minor": 5
}
